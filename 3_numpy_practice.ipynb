{
  "cells": [
    {
      "cell_type": "markdown",
      "metadata": {
        "id": "Ad3KH2GnL1UA"
      },
      "source": [
        "# 데이터사이언스 (0010085001)\n",
        "\n",
        "## Exercise 3: Libraries for Data Science (NumPy)\n",
        "\n",
        "In this excercise, we will cover NumPy library"
      ]
    },
    {
      "cell_type": "markdown",
      "metadata": {
        "id": "-IKr_8V1NCZs"
      },
      "source": [
        "### Array creation routines\n",
        "* Ones and zeros"
      ]
    },
    {
      "cell_type": "code",
      "execution_count": 1,
      "metadata": {
        "id": "DQfhCT-WrSuT"
      },
      "outputs": [],
      "source": [
        "import numpy as np"
      ]
    },
    {
      "cell_type": "code",
      "execution_count": 7,
      "metadata": {
        "id": "8IdcWak2Wgl6"
      },
      "outputs": [
        {
          "name": "stdout",
          "output_type": "stream",
          "text": [
            "[[0. 0.]\n",
            " [0. 0.]]\n",
            "float64\n"
          ]
        }
      ],
      "source": [
        "# Create an 2-by-2 array of all zeros \n",
        "a = \n",
        "print(a)"
      ]
    },
    {
      "cell_type": "code",
      "execution_count": 8,
      "metadata": {
        "id": "y5lXMTfzWgoa"
      },
      "outputs": [
        {
          "name": "stdout",
          "output_type": "stream",
          "text": [
            "[[1 1]\n",
            " [1 1]]\n",
            "int16\n"
          ]
        }
      ],
      "source": [
        "# Create an 2-by-2 array of all ones \n",
        "a = \n",
        "print(a)"
      ]
    },
    {
      "cell_type": "code",
      "execution_count": 11,
      "metadata": {
        "id": "ntxFubSXWgqq"
      },
      "outputs": [
        {
          "name": "stdout",
          "output_type": "stream",
          "text": [
            "[[0.73480718 0.27003699]\n",
            " [0.6591247  0.78326482]]\n",
            "[[0.30839622 0.58159871]\n",
            " [0.56831323 0.53160267]]\n"
          ]
        }
      ],
      "source": [
        "# Create an 2-by-2 array with random numbers\n",
        "a = \n",
        "print(a)"
      ]
    },
    {
      "cell_type": "code",
      "execution_count": 12,
      "metadata": {
        "id": "mwUx4h07WgtO"
      },
      "outputs": [
        {
          "name": "stdout",
          "output_type": "stream",
          "text": [
            "[1 2 3 4 5 6]\n"
          ]
        }
      ],
      "source": [
        "# Create an 1-by-6 array with elements 1 to 6\n",
        "a = \n",
        "print(a)"
      ]
    },
    {
      "cell_type": "code",
      "execution_count": 14,
      "metadata": {
        "id": "FnDIZ2taWgvM"
      },
      "outputs": [
        {
          "name": "stdout",
          "output_type": "stream",
          "text": [
            "[[1 2 3]\n",
            " [4 5 6]]\n"
          ]
        }
      ],
      "source": [
        "# Create a two rows array with elements 1 to 6\n",
        "b = \n",
        "print(b)"
      ]
    },
    {
      "cell_type": "code",
      "execution_count": 15,
      "metadata": {
        "id": "ekvLsQYRWgxq"
      },
      "outputs": [
        {
          "name": "stdout",
          "output_type": "stream",
          "text": [
            "(2, 3)\n"
          ]
        }
      ],
      "source": [
        "# Print shape of the array\n",
        "print(b.shape)"
      ]
    },
    {
      "cell_type": "code",
      "execution_count": null,
      "metadata": {
        "id": "jiRIoGTO6G_A"
      },
      "outputs": [],
      "source": [
        "#  Create an array of zeros with the same shape and type as b\n",
        "c = \n",
        "print(c)"
      ]
    },
    {
      "cell_type": "code",
      "execution_count": null,
      "metadata": {
        "id": "7V6_RKNw5fz6"
      },
      "outputs": [],
      "source": [
        "# Create an array of ones with the same shape and type as b\n",
        "d = \n",
        "print(d)"
      ]
    },
    {
      "cell_type": "code",
      "execution_count": null,
      "metadata": {
        "id": "uFuNHfvv6jni"
      },
      "outputs": [],
      "source": [
        "# Create a new array of 2*5 uints, filled with 6.\n",
        "# Use np.full() and np.ones()\n",
        "a = \n",
        "print(a)\n",
        "\n",
        "b = \n",
        "print(b)"
      ]
    },
    {
      "cell_type": "markdown",
      "metadata": {
        "id": "dXoE3QG78BI4"
      },
      "source": [
        "### Array from existing data"
      ]
    },
    {
      "cell_type": "code",
      "execution_count": null,
      "metadata": {
        "id": "gKpVs2ZL8GYY"
      },
      "outputs": [],
      "source": [
        "# Create an array of [1, 2, 3]\n",
        "a = \n",
        "print(a)"
      ]
    },
    {
      "cell_type": "code",
      "execution_count": null,
      "metadata": {
        "id": "EeTozKis8GWL"
      },
      "outputs": [],
      "source": [
        "# Let x = [1, 2]. Convert it into an array (asarray)\n",
        "x = \n",
        "x = \n",
        "print(x)"
      ]
    },
    {
      "cell_type": "code",
      "execution_count": null,
      "metadata": {
        "id": "Ez8gf0QM8GTz"
      },
      "outputs": [],
      "source": [
        "# Let x = np.array([[1, 2], [3, 4]]). Convert it into a matrix (asmatrix)\n",
        "x = \n",
        "x = \n",
        "print(x)"
      ]
    },
    {
      "cell_type": "code",
      "execution_count": null,
      "metadata": {
        "id": "ippjxPDp8GRv"
      },
      "outputs": [],
      "source": [
        "# Let x = [1, 2]. Convert it into an array of float (asfarray)\n",
        "x = \n",
        "x = \n",
        "print(x)\n",
        "print(type(x[0]))\n",
        "\n",
        "y = \n",
        "print(y)\n",
        "print(type(y[0]))"
      ]
    },
    {
      "cell_type": "code",
      "execution_count": null,
      "metadata": {
        "id": "TWTGul1V8o61"
      },
      "outputs": [],
      "source": [
        "# Let x = np.array([30]). Convert it into scalar of its single element, i.e. 30 (asscalar)\n",
        "x = \n",
        "x = \n",
        "print(x)"
      ]
    },
    {
      "cell_type": "code",
      "execution_count": null,
      "metadata": {
        "id": "rXorbvLo8o4a"
      },
      "outputs": [],
      "source": [
        "# Let x = np.array([1, 2, 3]). Create a array copy of x, which has a different id from x\n",
        "x = \n",
        "y = \n",
        "print(id(x), x)\n",
        "print(id(y), y)"
      ]
    },
    {
      "cell_type": "markdown",
      "metadata": {
        "id": "ub4HIEsyWzdL"
      },
      "source": [
        "### Array indexing\n",
        "Since arrays may be multidimensional, you must specify a slice for each dimension of the array"
      ]
    },
    {
      "cell_type": "code",
      "execution_count": null,
      "metadata": {
        "id": "oQuR0SV8Wg4Z"
      },
      "outputs": [],
      "source": [
        "# Create an 3-by-4 array with elements 1 to 12 (reshape)\n",
        "a = \n",
        "print(a)"
      ]
    },
    {
      "cell_type": "code",
      "execution_count": null,
      "metadata": {
        "id": "U0gy5ngaW1m3"
      },
      "outputs": [],
      "source": [
        "# Use slicing to pull out the subarray consisting of the first 2 rows and columns 1 and 2\n",
        "b = \n",
        "print(b)"
      ]
    },
    {
      "cell_type": "code",
      "execution_count": null,
      "metadata": {
        "id": "l8XnWNUaW1o3"
      },
      "outputs": [],
      "source": [
        "# From an array, print all rows which sum up to less or equal two\n",
        "x = \n",
        "rowsum = \n",
        "print(rowsum)"
      ]
    },
    {
      "cell_type": "markdown",
      "metadata": {
        "id": "JrHJvEI2W4Ww"
      },
      "source": [
        "### Array math\n",
        "Basic mathematical functions operate elementwise on arrays, and are available both as operator overloads and as functions in the numpy module"
      ]
    },
    {
      "cell_type": "code",
      "execution_count": null,
      "metadata": {
        "id": "2NWvNBGwW1vY"
      },
      "outputs": [],
      "source": [
        "#############################################################\n",
        "# General Usage\n",
        "#############################################################\n",
        "x = np.array([[1,2],[3,4]], dtype=np.float64)\n",
        "y = np.array([[5,6],[7,8]], dtype=np.float64)\n",
        "\n",
        "# Elementwise product of x and y\n",
        "z = \n",
        "print(z)"
      ]
    },
    {
      "cell_type": "code",
      "execution_count": null,
      "metadata": {
        "id": "jlW3dtyxW6aS"
      },
      "outputs": [],
      "source": [
        "# Matrix product of x and y\n",
        "z = \n",
        "print(z)"
      ]
    },
    {
      "cell_type": "code",
      "execution_count": null,
      "metadata": {
        "id": "Y8CGj5OFW6cx"
      },
      "outputs": [],
      "source": [
        "# Compute sum of all elements in x\n",
        "z = \n",
        "print(z)"
      ]
    },
    {
      "cell_type": "code",
      "execution_count": null,
      "metadata": {
        "id": "5Any9SqRW6ey"
      },
      "outputs": [],
      "source": [
        "# Compute sum of each column in x;\n",
        "z = \n",
        "print(z)"
      ]
    },
    {
      "cell_type": "code",
      "execution_count": null,
      "metadata": {
        "id": "Uwazhe_BW6hU"
      },
      "outputs": [],
      "source": [
        "# Compute sum of each row in x\n",
        "z = \n",
        "print(z)"
      ]
    },
    {
      "cell_type": "code",
      "execution_count": null,
      "metadata": {
        "id": "ux2s3U0eHNmZ"
      },
      "outputs": [],
      "source": [
        "#############################################################\n",
        "# Broadcasting\n",
        "#############################################################\n",
        "\n",
        "a = np.array([[0.0, 0.0, 0.0,],\n",
        "              [10.0, 10.0, 10.0],\n",
        "              [20.0, 20.0, 20.0],\n",
        "              [30.0, 30.0, 30.0]])\n",
        "\n",
        "b = np.array([1.0, 2.0, 3.0])\n",
        "\n",
        "print(a+b)"
      ]
    },
    {
      "cell_type": "code",
      "execution_count": null,
      "metadata": {
        "id": "5pcHr8sHW6jz"
      },
      "outputs": [],
      "source": [
        "x = np.array([[1,2,3], [4,5,6], [7,8,9], [10, 11, 12]])\n",
        "v = np.array([1, 0, 1])\n",
        "y = np.empty_like(x) \n",
        "\n",
        "# Add the vector v to each row of the matrix x with an explicit loop\n",
        "for i in range(4):\n",
        "    y[i, :] = x[i, :] + v\n",
        "print(y)"
      ]
    },
    {
      "cell_type": "code",
      "execution_count": null,
      "metadata": {
        "id": "10QBFaiEW6mU"
      },
      "outputs": [],
      "source": [
        "# Add the vector v to each row of the matrix x with stacking v multiple times (tile)\n",
        "vv = \n",
        "y = x + vv\n",
        "print(y)"
      ]
    },
    {
      "cell_type": "code",
      "execution_count": null,
      "metadata": {
        "id": "hrWYVDPbW6ok"
      },
      "outputs": [],
      "source": [
        "# Add the vector v to each row of the matrix x with broadcasting\n",
        "y = \n",
        "print(y)"
      ]
    },
    {
      "cell_type": "code",
      "execution_count": null,
      "metadata": {
        "id": "CTK4_gelW6qr"
      },
      "outputs": [],
      "source": [
        "# Multiply matrix x by a constant 2:\n",
        "z = \n",
        "print(z)"
      ]
    },
    {
      "cell_type": "markdown",
      "metadata": {
        "id": "eoX7c6_nq7Em"
      },
      "source": [
        "### Numpy Array as Data\n",
        "\n",
        "* Data type: scalar, vector, matrix, tensor, and so on\n"
      ]
    },
    {
      "cell_type": "code",
      "execution_count": null,
      "metadata": {
        "id": "UwV0NBXOq7fy"
      },
      "outputs": [],
      "source": [
        "# Feature vector example 1\n",
        "\n",
        "from sklearn.datasets import load_iris\n",
        "\n",
        "iris = load_iris() \n",
        "print(iris.data[0, :])"
      ]
    },
    {
      "cell_type": "code",
      "execution_count": null,
      "metadata": {
        "id": "apnLVhxjq7mg"
      },
      "outputs": [],
      "source": [
        "# Feature vector example 2\n",
        "import matplotlib.pyplot as plt\n",
        "\n",
        "from sklearn.datasets import load_digits \n",
        "digits = load_digits()  # 데이터 로드\n",
        "samples = [0, 10, 20, 30, 1, 11, 21, 31]  # 선택된 이미지 번호\n",
        "d = []\n",
        "for i in range(8):\n",
        "    d.append(digits.images[samples[i]])\n",
        "\n",
        "plt.figure(figsize=(8, 2))\n",
        "for i in range(8):\n",
        "    plt.subplot(1, 8, i + 1)\n",
        "    plt.imshow(d[i], interpolation='nearest', cmap=plt.cm.bone_r)\n",
        "    plt.grid(False); plt.xticks([]); plt.yticks([])\n",
        "    plt.title(\"image {}\".format(i + 1))\n",
        "plt.suptitle(\"숫자 0과 1 이미지\")\n",
        "plt.tight_layout()\n",
        "plt.show()"
      ]
    },
    {
      "cell_type": "markdown",
      "metadata": {
        "id": "mVVQVnjAAeyX"
      },
      "source": [
        "### Image processing with Python, NumPy"
      ]
    },
    {
      "cell_type": "code",
      "execution_count": null,
      "metadata": {
        "id": "RaCDPnSNAhMR"
      },
      "outputs": [],
      "source": [
        "from PIL import Image # Python Imaging Library\n",
        "import numpy as np\n",
        "import scipy.misc\n",
        "import cv2\n",
        "\n",
        "# How to read an image file as ndarray\n",
        "image_url = \"https://github.com/nkmk/python-snippets/blob/1dd9bd0b89a4465af229cbbfc2a1f8e3cb26d78c/notebook/data/src/lena.jpg\"\n",
        "\n",
        "# Download image and move it to the file (see left categories)\n",
        "im = \n",
        "\n",
        "# Convert Image to numpy.ndarray\n",
        "im = \n",
        "\n",
        "print(im.shape)\n",
        "print(im.dtype)\n",
        "print(im.shape)"
      ]
    },
    {
      "cell_type": "code",
      "execution_count": null,
      "metadata": {
        "id": "hAMBdHXNAhJ7"
      },
      "outputs": [],
      "source": [
        "# Convert image to grayscale\n",
        "im_gray = \n",
        "print(im_gray.shape)"
      ]
    },
    {
      "cell_type": "code",
      "execution_count": null,
      "metadata": {
        "id": "2ok374peAhHw"
      },
      "outputs": [],
      "source": [
        "# Change the value of the element (pixel)\n",
        "print(im.flags.writeable)\n",
        "\n",
        "print(im[0, 0, 0])\n",
        "\n",
        "im[0, 0, 0] = 0\n",
        "\n",
        "print(im[0, 0, 0])"
      ]
    },
    {
      "cell_type": "code",
      "execution_count": null,
      "metadata": {
        "id": "fwBwUBu1AhFa"
      },
      "outputs": [],
      "source": [
        "# Generation of single color image and concatenation\n",
        "image_url = \"https://github.com/nkmk/python-snippets/blob/1dd9bd0b89a4465af229cbbfc2a1f8e3cb26d78c/notebook/data/src/lena_square.png?raw=true\"\n",
        "\n",
        "im = \n",
        "im = \n",
        "\n",
        "# Make green and blue channel values to zero\n",
        "im_R = im.copy()\n",
        "im_R\n",
        "\n",
        "# Make red and blue channel values to zero\n",
        "im_G = im.copy()\n",
        "im_G\n",
        "\n",
        "# Make red and green channel values to zero\n",
        "im_B = im.copy()\n",
        "im_B\n",
        "\n",
        "# Concatenate each images along the axis 1\n",
        "im_RGB = \n",
        "# im_RGB = np.hstack((im_R, im_G, im_B))\n",
        "# im_RGB = np.c_['1', im_R, im_G, im_B]\n",
        "\n",
        "# Save image\n",
        "pil_img = Image.fromarray(im_RGB)\n",
        "pil_img.save('./lena_numpy_split_color.jpg')\n"
      ]
    },
    {
      "cell_type": "code",
      "execution_count": null,
      "metadata": {
        "id": "7f-4ImR5AhDI"
      },
      "outputs": [],
      "source": [
        "# Negative-positive inversion (invert pixel value)\n",
        "im = np.array(Image.open('./lena_square.jpg').resize((256, 256)))\n",
        "\n",
        "im_i = \n",
        "\n",
        "Image.fromarray(im_i).save('./lena_numpy_inverse.jpg')"
      ]
    },
    {
      "cell_type": "code",
      "execution_count": null,
      "metadata": {
        "id": "EQYtbRXSAhA5"
      },
      "outputs": [],
      "source": [
        "# Color reduction\n",
        "im = np.array(Image.open('./lena_square.jpg').resize((256, 256)))\n",
        "\n",
        "im_32 = im // 32 * 32\n",
        "im_128 = im // 128 * 128\n",
        "\n",
        "im_dec = \n",
        "\n",
        "Image.fromarray(im_dec).save('./lena_numpy_dec_color.jpg')"
      ]
    },
    {
      "cell_type": "code",
      "execution_count": null,
      "metadata": {
        "id": "hdyaKqWvAg-p"
      },
      "outputs": [],
      "source": [
        "# Trimming with slice\n",
        "m = np.array(Image.open('./lena_square.jpg'))\n",
        "print(im.shape)\n",
        "\n",
        "# Slice image with arbitrary scale\n",
        "im_trim1 = im[]\n",
        "print(im_trim1.shape)\n",
        "\n",
        "Image.fromarray(im_trim1).save('./lena_numpy_trim.jpg')"
      ]
    }
  ],
  "metadata": {
    "colab": {
      "provenance": []
    },
    "kernelspec": {
      "display_name": "Python 3",
      "name": "python3"
    },
    "language_info": {
      "codemirror_mode": {
        "name": "ipython",
        "version": 3
      },
      "file_extension": ".py",
      "mimetype": "text/x-python",
      "name": "python",
      "nbconvert_exporter": "python",
      "pygments_lexer": "ipython3",
      "version": "3.9.13"
    }
  },
  "nbformat": 4,
  "nbformat_minor": 0
}
