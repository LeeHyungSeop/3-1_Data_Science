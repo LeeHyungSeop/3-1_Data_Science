{
  "cells": [
    {
      "cell_type": "markdown",
      "metadata": {
        "id": "Ad3KH2GnL1UA"
      },
      "source": [
        "# 데이터사이언스 (0010085001)\n",
        "\n",
        "## Exercise 4: Libraries for Data Science (Pandas)\n",
        "\n",
        "In this excercise, we will cover Pandas library"
      ]
    },
    {
      "cell_type": "code",
      "execution_count": 3,
      "metadata": {
        "id": "DQfhCT-WrSuT"
      },
      "outputs": [],
      "source": [
        "import numpy as np\n",
        "import pandas as pd"
      ]
    },
    {
      "cell_type": "markdown",
      "metadata": {
        "id": "-IKr_8V1NCZs"
      },
      "source": [
        "### Series\n"
      ]
    },
    {
      "cell_type": "code",
      "execution_count": 14,
      "metadata": {
        "id": "CO-O7Vx7Wg_c"
      },
      "outputs": [
        {
          "name": "stdout",
          "output_type": "stream",
          "text": [
            "0       1\n",
            "1    John\n",
            "2     3.5\n",
            "3     Hey\n",
            "dtype: object\n",
            "[1 'John' 3.5 'Hey']\n"
          ]
        }
      ],
      "source": [
        "# Create a Series with [1, \"John\", 3.5, \"Hey\"]\n",
        "obj = pd.Series([1, \"John\", 3.5, \"Hey\"])\n",
        "\n",
        "print(obj)\n",
        "print(obj.values)"
      ]
    },
    {
      "cell_type": "code",
      "execution_count": 15,
      "metadata": {
        "id": "WJSfJnl7gzLw"
      },
      "outputs": [
        {
          "name": "stdout",
          "output_type": "stream",
          "text": [
            "a       1\n",
            "b    John\n",
            "c     3.5\n",
            "d     Hey\n",
            "dtype: object\n",
            "John\n",
            "Index(['a', 'b', 'c', 'd'], dtype='object')\n"
          ]
        }
      ],
      "source": [
        "# Create a Series with [1, \"John\", 3.5, \"Hey\"]\n",
        "# Indexing with [\"a\", \"b\", \"c\", \"d\"]\n",
        "\n",
        "index = [\"a\", \"b\", \"c\", \"d\"]\n",
        "obj2 = pd.Series([1, \"John\", 3.5, \"Hey\"], index=index)\n",
        "\n",
        "print(obj2)\n",
        "print(obj2[\"b\"])\n",
        "print(obj2.index)"
      ]
    },
    {
      "cell_type": "code",
      "execution_count": 16,
      "metadata": {
        "id": "Xuf2E1k1XvIu"
      },
      "outputs": [
        {
          "name": "stdout",
          "output_type": "stream",
          "text": [
            "Jane    90\n",
            "Bill    80\n",
            "Elon    85\n",
            "Tom     75\n",
            "Tim     95\n",
            "dtype: int64\n",
            "95\n"
          ]
        }
      ],
      "source": [
        "# Create a Series with dictionary, {\"Jane\": 90, \"Bill\": 80, \"Elon\": 85,\"Tom\": 75, \"Tim\": 95}\n",
        "score = {\"Jane\": 90, \"Bill\": 80, \"Elon\": 85,\"Tom\": 75, \"Tim\": 95}\n",
        "\n",
        "# Convert the given dictionary to Series\n",
        "names = pd.Series(score)\n",
        "\n",
        "print(names)\n",
        "print(names[\"Tim\"])"
      ]
    },
    {
      "cell_type": "code",
      "execution_count": 17,
      "metadata": {
        "id": "9a3xE7GUXvLP"
      },
      "outputs": [
        {
          "name": "stdout",
          "output_type": "stream",
          "text": [
            "Jane    90\n",
            "Tim     95\n",
            "dtype: int64\n"
          ]
        }
      ],
      "source": [
        "# Print data, a score is higher than 85\n",
        "print(names[names > 85])"
      ]
    },
    {
      "cell_type": "code",
      "execution_count": 18,
      "metadata": {
        "id": "-zQ28mRCXvNi"
      },
      "outputs": [
        {
          "name": "stdout",
          "output_type": "stream",
          "text": [
            "Jane    90\n",
            "Bill    80\n",
            "Elon    85\n",
            "Tom     60\n",
            "Tim     95\n",
            "dtype: int64\n"
          ]
        }
      ],
      "source": [
        "# Change a score of Tom with 60\n",
        "names[\"Tom\"] = 60\n",
        "print(names)"
      ]
    },
    {
      "cell_type": "code",
      "execution_count": 19,
      "metadata": {
        "id": "-VxGzrlKXvPv"
      },
      "outputs": [
        {
          "name": "stdout",
          "output_type": "stream",
          "text": [
            "Jane    90\n",
            "Bill    80\n",
            "Elon    85\n",
            "Tom     83\n",
            "Tim     95\n",
            "dtype: int64\n"
          ]
        }
      ],
      "source": [
        "# Change a score of whom is lower than 80 to 83\n",
        "names[names < 80] = 83\n",
        "print(names)"
      ]
    },
    {
      "cell_type": "markdown",
      "metadata": {
        "id": "5tommdhqdjvC"
      },
      "source": [
        "### DataFrame\n"
      ]
    },
    {
      "cell_type": "code",
      "execution_count": 27,
      "metadata": {
        "id": "32LkV5pfXvUB"
      },
      "outputs": [],
      "source": [
        "data={\"name\": [\"Bill\", \"Tom\", \"Tim\", \"John\", \"Alex\", \"Vanessa\", \"Kate\"],      \n",
        "      \"score\": [90, 80, 85, 75, 95, 60, 65],      \n",
        "      \"sport\": [\"Wrestling\", \"Football\", \"Skiing\", \"Swimming\", \"Tennis\",\n",
        "               \"Karete\", \"Surfing\"],      \n",
        "      \"sex\":[\"M\", \"M\", \"M\", \"M\", \"F\", \"F\", \"F\"]}"
      ]
    },
    {
      "cell_type": "code",
      "execution_count": 28,
      "metadata": {
        "id": "LdBxsALeX0mm"
      },
      "outputs": [
        {
          "name": "stdout",
          "output_type": "stream",
          "text": [
            "      name  score      sport sex\n",
            "0     Bill     90  Wrestling   M\n",
            "1      Tom     80   Football   M\n",
            "2      Tim     85     Skiing   M\n",
            "3     John     75   Swimming   M\n",
            "4     Alex     95     Tennis   F\n",
            "5  Vanessa     60     Karete   F\n",
            "6     Kate     65    Surfing   F\n"
          ]
        }
      ],
      "source": [
        "# Create a DataFrame using the given data\n",
        "df = pd.DataFrame(data)\n",
        "print(df)"
      ]
    },
    {
      "cell_type": "code",
      "execution_count": 29,
      "metadata": {
        "id": "eEjlt0AxX0o0"
      },
      "outputs": [
        {
          "name": "stdout",
          "output_type": "stream",
          "text": [
            "      name      sport sex  score\n",
            "0     Bill  Wrestling   M     90\n",
            "1      Tom   Football   M     80\n",
            "2      Tim     Skiing   M     85\n",
            "3     John   Swimming   M     75\n",
            "4     Alex     Tennis   F     95\n",
            "5  Vanessa     Karete   F     60\n",
            "6     Kate    Surfing   F     65\n"
          ]
        }
      ],
      "source": [
        "# Create a DataFrame with explicit index, [\"name\", \"sport\", \"sex\", \"score\"]\n",
        "df = pd.DataFrame(data, columns=[\"name\", \"sport\", \"sex\", \"score\"])\n",
        "print(df)"
      ]
    },
    {
      "cell_type": "code",
      "execution_count": 30,
      "metadata": {
        "id": "N27hhu7nX0rX"
      },
      "outputs": [
        {
          "name": "stdout",
          "output_type": "stream",
          "text": [
            "   name      sport sex  score\n",
            "0  Bill  Wrestling   M     90\n",
            "1   Tom   Football   M     80\n",
            "2   Tim     Skiing   M     85\n",
            "3  John   Swimming   M     75\n",
            "4  Alex     Tennis   F     95\n"
          ]
        }
      ],
      "source": [
        "# Print the first five rows\n",
        "print(df.head())"
      ]
    },
    {
      "cell_type": "code",
      "execution_count": 31,
      "metadata": {
        "id": "_g6M5yMteb0a"
      },
      "outputs": [
        {
          "name": "stdout",
          "output_type": "stream",
          "text": [
            "      name    sport sex  score\n",
            "4     Alex   Tennis   F     95\n",
            "5  Vanessa   Karete   F     60\n",
            "6     Kate  Surfing   F     65\n"
          ]
        }
      ],
      "source": [
        "# Print the last five rows\n",
        "print(df.tail(3))"
      ]
    },
    {
      "cell_type": "code",
      "execution_count": 33,
      "metadata": {
        "id": "uTyfND-eebyE"
      },
      "outputs": [
        {
          "name": "stdout",
          "output_type": "stream",
          "text": [
            "      name      sport sex  score gender  age\n",
            "0     Bill  Wrestling   M     90    NaN  NaN\n",
            "1      Tom   Football   M     80    NaN  NaN\n",
            "2      Tim     Skiing   M     85    NaN  NaN\n",
            "3     John   Swimming   M     75    NaN  NaN\n",
            "4     Alex     Tennis   F     95    NaN  NaN\n",
            "5  Vanessa     Karete   F     60    NaN  NaN\n",
            "6     Kate    Surfing   F     65    NaN  NaN\n"
          ]
        }
      ],
      "source": [
        "# Append gender and age column on the given data\n",
        "df = pd.DataFrame(data, columns=[\"name\", \"sport\", \"sex\", \"score\", \"gender\", \"age\"])\n",
        "print(df)"
      ]
    },
    {
      "cell_type": "code",
      "execution_count": 34,
      "metadata": {
        "id": "Ie94ndvNebvn"
      },
      "outputs": [
        {
          "name": "stdout",
          "output_type": "stream",
          "text": [
            "          name      sport sex  score gender  age\n",
            "one       Bill  Wrestling   M     90    NaN  NaN\n",
            "two        Tom   Football   M     80    NaN  NaN\n",
            "three      Tim     Skiing   M     85    NaN  NaN\n",
            "four      John   Swimming   M     75    NaN  NaN\n",
            "five      Alex     Tennis   F     95    NaN  NaN\n",
            "six    Vanessa     Karete   F     60    NaN  NaN\n",
            "seven     Kate    Surfing   F     65    NaN  NaN\n"
          ]
        }
      ],
      "source": [
        "# Append gender column on the given data and \n",
        "# designate the index as [\"one\", \"two\", \"three\", \"four\", \"five\", \"six\", \"seven\"]\n",
        "\n",
        "index = [\"one\", \"two\", \"three\", \"four\", \"five\", \"six\", \"seven\"]\n",
        "df = pd.DataFrame(data, columns=[\"name\", \"sport\", \"sex\", \"score\", \"gender\", \"age\"], index=index)\n",
        "\n",
        "print(df)"
      ]
    },
    {
      "cell_type": "code",
      "execution_count": 35,
      "metadata": {
        "id": "sKSV9bjsebtN"
      },
      "outputs": [
        {
          "name": "stdout",
          "output_type": "stream",
          "text": [
            "one      Wrestling\n",
            "two       Football\n",
            "three       Skiing\n",
            "four      Swimming\n",
            "five        Tennis\n",
            "six         Karete\n",
            "seven      Surfing\n",
            "Name: sport, dtype: object\n"
          ]
        }
      ],
      "source": [
        "# Print the column where its name is sport.\n",
        "print(df[\"sport\"])"
      ]
    },
    {
      "cell_type": "code",
      "execution_count": 36,
      "metadata": {
        "id": "D7bBigB_ebqv"
      },
      "outputs": [
        {
          "name": "stdout",
          "output_type": "stream",
          "text": [
            "          name      sport\n",
            "one       Bill  Wrestling\n",
            "two        Tom   Football\n",
            "three      Tim     Skiing\n",
            "four      John   Swimming\n",
            "five      Alex     Tennis\n",
            "six    Vanessa     Karete\n",
            "seven     Kate    Surfing\n"
          ]
        }
      ],
      "source": [
        "# Define name and sport columns with my_columns\n",
        "# Print the column using my_columns\n",
        "my_columns = [\"name\", \"sport\"]\n",
        "print(df[my_columns])"
      ]
    },
    {
      "cell_type": "code",
      "execution_count": 37,
      "metadata": {
        "id": "tt7CPtNCebjP"
      },
      "outputs": [
        {
          "name": "stdout",
          "output_type": "stream",
          "text": [
            "          name      sport sex  score gender  age\n",
            "one       Bill  Wrestling   M     90    NaN   18\n",
            "two        Tom   Football   M     80    NaN   19\n",
            "three      Tim     Skiing   M     85    NaN   20\n",
            "four      John   Swimming   M     75    NaN   18\n",
            "five      Alex     Tennis   F     95    NaN   17\n",
            "six    Vanessa     Karete   F     60    NaN   17\n",
            "seven     Kate    Surfing   F     65    NaN   18\n"
          ]
        }
      ],
      "source": [
        "# Fill the age column with values [18, 19, 20, 18, 17, 17, 18]\n",
        "values = [18, 19, 20, 18, 17, 17, 18]\n",
        "df[\"age\"] = values\n",
        "print(df)"
      ]
    },
    {
      "cell_type": "code",
      "execution_count": 40,
      "metadata": {
        "id": "y1DmStvUebg6"
      },
      "outputs": [
        {
          "name": "stdout",
          "output_type": "stream",
          "text": [
            "          name      sport sex  score gender  age   pass\n",
            "one       Bill  Wrestling   M     90    NaN   18   True\n",
            "two        Tom   Football   M     80    NaN   19   True\n",
            "three      Tim     Skiing   M     85    NaN   20   True\n",
            "four      John   Swimming   M     75    NaN   18   True\n",
            "five      Alex     Tennis   F     95    NaN   17   True\n",
            "six    Vanessa     Karete   F     60    NaN   17  False\n",
            "seven     Kate    Surfing   F     65    NaN   18  False\n"
          ]
        }
      ],
      "source": [
        "# Make the pass column (boolean)\n",
        "# If the score is greather than or equal 70, assign True \n",
        "df[\"pass\"] = df[\"score\"]>=70\n",
        "print(df)"
      ]
    },
    {
      "cell_type": "markdown",
      "metadata": {
        "id": "mCryI2km8Wje"
      },
      "source": [
        "### Basic Functions\n",
        "* Summarizing & Computing Descriptive Statistics"
      ]
    },
    {
      "cell_type": "code",
      "execution_count": 43,
      "metadata": {
        "id": "f3R5rs7m8jfx"
      },
      "outputs": [
        {
          "name": "stdout",
          "output_type": "stream",
          "text": [
            "    one  two\n",
            "a  2.40  NaN\n",
            "b  6.30 -5.4\n",
            "c   NaN  NaN\n",
            "d  0.75 -1.3\n"
          ]
        }
      ],
      "source": [
        "# Create 4 by 2 DataFrame with [[2.4, np.nan], [6.3, -5.4], [np.nan, np.nan], and [0.75, -1.3]]\n",
        "# Set index name as [\"a\", \"b\", \"c\", \"d\"] and column names as [\"one\", \"two\"]\n",
        "df = pd.DataFrame(\n",
        "    data=[[2.4, np.nan], [6.3, -5.4], [np.nan, np.nan], [0.75, -1.3]],\n",
        "    index=[\"a\", \"b\", \"c\", \"d\"],\n",
        "    columns=[\"one\", \"two\"]\n",
        ")\n",
        "\n",
        "print(df)"
      ]
    },
    {
      "cell_type": "code",
      "execution_count": 44,
      "metadata": {
        "id": "Cw4dWQ1l8jdq"
      },
      "outputs": [
        {
          "data": {
            "text/plain": [
              "one    9.45\n",
              "two   -6.70\n",
              "dtype: float64"
            ]
          },
          "execution_count": 44,
          "metadata": {},
          "output_type": "execute_result"
        }
      ],
      "source": [
        "# Return the sum of the values over the axis\n",
        "df.sum()"
      ]
    },
    {
      "cell_type": "code",
      "execution_count": 45,
      "metadata": {
        "id": "Q5Q1js3U8jbk"
      },
      "outputs": [
        {
          "data": {
            "text/plain": [
              "a    2.40\n",
              "b    0.90\n",
              "c    0.00\n",
              "d   -0.55\n",
              "dtype: float64"
            ]
          },
          "execution_count": 45,
          "metadata": {},
          "output_type": "execute_result"
        }
      ],
      "source": [
        "# Return the sum of the values over the axis=1\n",
        "df.sum(axis=1)"
      ]
    },
    {
      "cell_type": "code",
      "execution_count": 46,
      "metadata": {
        "id": "wXliel7h8jZh"
      },
      "outputs": [
        {
          "data": {
            "text/plain": [
              "a    2.400\n",
              "b    0.450\n",
              "c      NaN\n",
              "d   -0.275\n",
              "dtype: float64"
            ]
          },
          "execution_count": 46,
          "metadata": {},
          "output_type": "execute_result"
        }
      ],
      "source": [
        "# Return the mean of the values over the axis\n",
        "df.mean(axis=1)"
      ]
    },
    {
      "cell_type": "code",
      "execution_count": 52,
      "metadata": {
        "id": "V2ubkzNw84OG"
      },
      "outputs": [
        {
          "data": {
            "text/plain": [
              "one    b\n",
              "two    d\n",
              "dtype: object"
            ]
          },
          "execution_count": 52,
          "metadata": {},
          "output_type": "execute_result"
        }
      ],
      "source": [
        "# Return index of first occurrence of maximum over the axis\n",
        "df.idxmax()"
      ]
    },
    {
      "cell_type": "code",
      "execution_count": 53,
      "metadata": {
        "id": "JTWpdhkl8vtX"
      },
      "outputs": [
        {
          "data": {
            "text/plain": [
              "one    d\n",
              "two    b\n",
              "dtype: object"
            ]
          },
          "execution_count": 53,
          "metadata": {},
          "output_type": "execute_result"
        }
      ],
      "source": [
        "# Return index of first occurrence of minimum over the axis\n",
        "df.idxmin()"
      ]
    },
    {
      "cell_type": "code",
      "execution_count": 54,
      "metadata": {
        "id": "H3CiLDbW8vrY"
      },
      "outputs": [
        {
          "data": {
            "text/html": [
              "<div>\n",
              "<style scoped>\n",
              "    .dataframe tbody tr th:only-of-type {\n",
              "        vertical-align: middle;\n",
              "    }\n",
              "\n",
              "    .dataframe tbody tr th {\n",
              "        vertical-align: top;\n",
              "    }\n",
              "\n",
              "    .dataframe thead th {\n",
              "        text-align: right;\n",
              "    }\n",
              "</style>\n",
              "<table border=\"1\" class=\"dataframe\">\n",
              "  <thead>\n",
              "    <tr style=\"text-align: right;\">\n",
              "      <th></th>\n",
              "      <th>one</th>\n",
              "      <th>two</th>\n",
              "    </tr>\n",
              "  </thead>\n",
              "  <tbody>\n",
              "    <tr>\n",
              "      <th>a</th>\n",
              "      <td>2.40</td>\n",
              "      <td>NaN</td>\n",
              "    </tr>\n",
              "    <tr>\n",
              "      <th>b</th>\n",
              "      <td>8.70</td>\n",
              "      <td>-5.4</td>\n",
              "    </tr>\n",
              "    <tr>\n",
              "      <th>c</th>\n",
              "      <td>NaN</td>\n",
              "      <td>NaN</td>\n",
              "    </tr>\n",
              "    <tr>\n",
              "      <th>d</th>\n",
              "      <td>9.45</td>\n",
              "      <td>-6.7</td>\n",
              "    </tr>\n",
              "  </tbody>\n",
              "</table>\n",
              "</div>"
            ],
            "text/plain": [
              "    one  two\n",
              "a  2.40  NaN\n",
              "b  8.70 -5.4\n",
              "c   NaN  NaN\n",
              "d  9.45 -6.7"
            ]
          },
          "execution_count": 54,
          "metadata": {},
          "output_type": "execute_result"
        }
      ],
      "source": [
        "# Return cumulative sum over a DataFrame or Series axis\n",
        "df.cumsum()"
      ]
    },
    {
      "cell_type": "code",
      "execution_count": 55,
      "metadata": {
        "id": "ByiPJDka8vpZ"
      },
      "outputs": [
        {
          "data": {
            "text/html": [
              "<div>\n",
              "<style scoped>\n",
              "    .dataframe tbody tr th:only-of-type {\n",
              "        vertical-align: middle;\n",
              "    }\n",
              "\n",
              "    .dataframe tbody tr th {\n",
              "        vertical-align: top;\n",
              "    }\n",
              "\n",
              "    .dataframe thead th {\n",
              "        text-align: right;\n",
              "    }\n",
              "</style>\n",
              "<table border=\"1\" class=\"dataframe\">\n",
              "  <thead>\n",
              "    <tr style=\"text-align: right;\">\n",
              "      <th></th>\n",
              "      <th>one</th>\n",
              "      <th>two</th>\n",
              "    </tr>\n",
              "  </thead>\n",
              "  <tbody>\n",
              "    <tr>\n",
              "      <th>count</th>\n",
              "      <td>3.000</td>\n",
              "      <td>2.000000</td>\n",
              "    </tr>\n",
              "    <tr>\n",
              "      <th>mean</th>\n",
              "      <td>3.150</td>\n",
              "      <td>-3.350000</td>\n",
              "    </tr>\n",
              "    <tr>\n",
              "      <th>std</th>\n",
              "      <td>2.850</td>\n",
              "      <td>2.899138</td>\n",
              "    </tr>\n",
              "    <tr>\n",
              "      <th>min</th>\n",
              "      <td>0.750</td>\n",
              "      <td>-5.400000</td>\n",
              "    </tr>\n",
              "    <tr>\n",
              "      <th>25%</th>\n",
              "      <td>1.575</td>\n",
              "      <td>-4.375000</td>\n",
              "    </tr>\n",
              "    <tr>\n",
              "      <th>50%</th>\n",
              "      <td>2.400</td>\n",
              "      <td>-3.350000</td>\n",
              "    </tr>\n",
              "    <tr>\n",
              "      <th>75%</th>\n",
              "      <td>4.350</td>\n",
              "      <td>-2.325000</td>\n",
              "    </tr>\n",
              "    <tr>\n",
              "      <th>max</th>\n",
              "      <td>6.300</td>\n",
              "      <td>-1.300000</td>\n",
              "    </tr>\n",
              "  </tbody>\n",
              "</table>\n",
              "</div>"
            ],
            "text/plain": [
              "         one       two\n",
              "count  3.000  2.000000\n",
              "mean   3.150 -3.350000\n",
              "std    2.850  2.899138\n",
              "min    0.750 -5.400000\n",
              "25%    1.575 -4.375000\n",
              "50%    2.400 -3.350000\n",
              "75%    4.350 -2.325000\n",
              "max    6.300 -1.300000"
            ]
          },
          "execution_count": 55,
          "metadata": {},
          "output_type": "execute_result"
        }
      ],
      "source": [
        "# Generate descriptive statistics\n",
        "df.describe()"
      ]
    },
    {
      "cell_type": "markdown",
      "metadata": {
        "id": "2oNiHeTMhZrN"
      },
      "source": [
        "### Indexing & selection & Filtering in Pandas\n",
        "* DataFrame indexing"
      ]
    },
    {
      "cell_type": "code",
      "execution_count": 57,
      "metadata": {
        "id": "BRhf6KeXhVWx"
      },
      "outputs": [
        {
          "name": "stdout",
          "output_type": "stream",
          "text": [
            "          one  two  three  four\n",
            "London      0    1      2     3\n",
            "Paris       4    5      6     7\n",
            "Berlin      8    9     10    11\n",
            "Istanbul   12   13     14    15\n"
          ]
        }
      ],
      "source": [
        "# Make a DataFrame with 16 consecutive integers of size (4, 4) starting at 0\n",
        "# Set the index as [\"London\", \"Paris\", \"Berlin\", \"Istanbul\"]\n",
        "# Set the column as [\"one\", \"two\", \"three\", \"four\"]\n",
        "data=pd.DataFrame(\n",
        "    np.arange(16).reshape(4,4),\n",
        "    index=[\"London\", \"Paris\", \"Berlin\", \"Istanbul\"],\n",
        "    columns=[\"one\", \"two\", \"three\", \"four\"])\n",
        "\n",
        "print(data)"
      ]
    },
    {
      "cell_type": "code",
      "execution_count": 59,
      "metadata": {
        "id": "Scbr8Z6tebek"
      },
      "outputs": [
        {
          "name": "stdout",
          "output_type": "stream",
          "text": [
            "London       1\n",
            "Paris        5\n",
            "Berlin       9\n",
            "Istanbul    13\n",
            "Name: two, dtype: int64\n"
          ]
        }
      ],
      "source": [
        "# Print the second column data\n",
        "print(data[\"two\"])"
      ]
    },
    {
      "cell_type": "code",
      "execution_count": 63,
      "metadata": {
        "id": "c6-nWhktebcK"
      },
      "outputs": [
        {
          "name": "stdout",
          "output_type": "stream",
          "text": [
            "          two  three\n",
            "London      1      2\n",
            "Paris       5      6\n",
            "Berlin      9     10\n",
            "Istanbul   13     14\n"
          ]
        }
      ],
      "source": [
        "# Print the second and third columns data\n",
        "\n",
        "my_columns = [\"two\", \"three\"]\n",
        "print(data[my_columns])"
      ]
    },
    {
      "cell_type": "code",
      "execution_count": 67,
      "metadata": {
        "id": "a_phmDN-ebXg"
      },
      "outputs": [
        {
          "name": "stdout",
          "output_type": "stream",
          "text": [
            "          one  two  three  four\n",
            "Paris       4    5      6     7\n",
            "Berlin      8    9     10    11\n",
            "Istanbul   12   13     14    15\n"
          ]
        }
      ],
      "source": [
        "# Print rows that the value of last column is greater than 5\n",
        "\n",
        "print(data[data[\"four\"] > 5])"
      ]
    },
    {
      "cell_type": "code",
      "execution_count": 68,
      "metadata": {
        "id": "mCfXQPxiebVQ"
      },
      "outputs": [
        {
          "name": "stdout",
          "output_type": "stream",
          "text": [
            "          one  two  three  four\n",
            "London      0    0      0     0\n",
            "Paris       0    5      6     7\n",
            "Berlin      8    9     10    11\n",
            "Istanbul   12   13     14    15\n"
          ]
        }
      ],
      "source": [
        "# Change the value where each data is smaller than 5\n",
        "\n",
        "data[data < 5] = 0\n",
        "print(data)"
      ]
    },
    {
      "cell_type": "markdown",
      "metadata": {
        "id": "QospUfZL1BQI"
      },
      "source": [
        "* Selecting with iloc and loc"
      ]
    },
    {
      "cell_type": "code",
      "execution_count": 70,
      "metadata": {
        "id": "fESLDYfZSWzh"
      },
      "outputs": [
        {
          "data": {
            "text/plain": [
              "one      0\n",
              "two      5\n",
              "three    6\n",
              "four     7\n",
              "Name: Paris, dtype: int64"
            ]
          },
          "execution_count": 70,
          "metadata": {},
          "output_type": "execute_result"
        }
      ],
      "source": [
        "# Print the rows with index 1\n",
        "data.iloc[1]"
      ]
    },
    {
      "cell_type": "code",
      "execution_count": 80,
      "metadata": {
        "id": "fF9496uBSWxW"
      },
      "outputs": [
        {
          "data": {
            "text/plain": [
              "two      5\n",
              "three    6\n",
              "four     7\n",
              "Name: Paris, dtype: int64"
            ]
          },
          "execution_count": 80,
          "metadata": {},
          "output_type": "execute_result"
        }
      ],
      "source": [
        "# Print the data with row index with 1 and column index with [1, 2, 3]\n",
        "\n",
        "index = [1, 2, 3]\n",
        "data.iloc[1, index]"
      ]
    },
    {
      "cell_type": "code",
      "execution_count": 72,
      "metadata": {
        "id": "53rNPzsZSWvD"
      },
      "outputs": [
        {
          "data": {
            "text/html": [
              "<div>\n",
              "<style scoped>\n",
              "    .dataframe tbody tr th:only-of-type {\n",
              "        vertical-align: middle;\n",
              "    }\n",
              "\n",
              "    .dataframe tbody tr th {\n",
              "        vertical-align: top;\n",
              "    }\n",
              "\n",
              "    .dataframe thead th {\n",
              "        text-align: right;\n",
              "    }\n",
              "</style>\n",
              "<table border=\"1\" class=\"dataframe\">\n",
              "  <thead>\n",
              "    <tr style=\"text-align: right;\">\n",
              "      <th></th>\n",
              "      <th>two</th>\n",
              "      <th>three</th>\n",
              "      <th>four</th>\n",
              "    </tr>\n",
              "  </thead>\n",
              "  <tbody>\n",
              "    <tr>\n",
              "      <th>Paris</th>\n",
              "      <td>5</td>\n",
              "      <td>6</td>\n",
              "      <td>7</td>\n",
              "    </tr>\n",
              "    <tr>\n",
              "      <th>Istanbul</th>\n",
              "      <td>13</td>\n",
              "      <td>14</td>\n",
              "      <td>15</td>\n",
              "    </tr>\n",
              "  </tbody>\n",
              "</table>\n",
              "</div>"
            ],
            "text/plain": [
              "          two  three  four\n",
              "Paris       5      6     7\n",
              "Istanbul   13     14    15"
            ]
          },
          "execution_count": 72,
          "metadata": {},
          "output_type": "execute_result"
        }
      ],
      "source": [
        "# Print the data with row index with [1, 3] and column index with [1, 2, 3]\n",
        "\n",
        "row_index = [1, 3]\n",
        "col_index = [1, 2, 3]\n",
        "data.iloc[row_index, col_index]"
      ]
    },
    {
      "cell_type": "code",
      "execution_count": 81,
      "metadata": {
        "id": "cgkeR_13SWs2"
      },
      "outputs": [
        {
          "data": {
            "text/plain": [
              "one    0\n",
              "two    5\n",
              "Name: Paris, dtype: int64"
            ]
          },
          "execution_count": 81,
          "metadata": {},
          "output_type": "execute_result"
        }
      ],
      "source": [
        "# Print the data with Paris row and [\"one\",\"two\"] columns\n",
        "col_index = [\"one\", \"two\"]\n",
        "data.loc[\"Paris\", col_index]"
      ]
    },
    {
      "cell_type": "markdown",
      "metadata": {
        "id": "mycuqEofUDIO"
      },
      "source": [
        "### Combininig & Merging Datasets in Pandas\n",
        "* Joining DataFrame"
      ]
    },
    {
      "cell_type": "code",
      "execution_count": 92,
      "metadata": {
        "id": "31kNWfL3SWmE"
      },
      "outputs": [
        {
          "name": "stdout",
          "output_type": "stream",
          "text": [
            "  key1  num1\n",
            "0    a     0\n",
            "1    b     1\n",
            "2    c     2\n",
            "3    c     3\n",
            "4    d     4\n",
            "5    e     5\n",
            "  key1  num2\n",
            "0    b     0\n",
            "1    c     1\n",
            "2    e     2\n",
            "3    f     3\n"
          ]
        }
      ],
      "source": [
        "# Create the DataFrame called d1\n",
        "# key1: [\"a\", \"b\", \"c\", \"c\", \"d\", \"e\"]\n",
        "# num1: [0, 1, 2, 3, 4, 5]\n",
        "d1 = pd.DataFrame(\n",
        "    {\n",
        "        \"key1\" : [\"a\", \"b\", \"c\", \"c\", \"d\", \"e\"],\n",
        "        \"num1\": [0, 1, 2, 3, 4, 5]\n",
        "    }\n",
        ")\n",
        "\n",
        "# Create the DataFrame called d2\n",
        "# key1: [\"b\", \"c\", \"e\", \"f\"]\n",
        "# num2: [0, 1, 2, 3]\n",
        "d2 = pd.DataFrame(\n",
        "    {\n",
        "        \"key1\" : [\"b\", \"c\", \"e\", \"f\"],\n",
        "        \"num2\": [0, 1, 2, 3]\n",
        "    }\n",
        ")\n",
        "\n",
        "print(d1)\n",
        "print(d2)"
      ]
    },
    {
      "cell_type": "code",
      "execution_count": 93,
      "metadata": {
        "id": "XsJZTEwIULcS"
      },
      "outputs": [
        {
          "data": {
            "text/html": [
              "<div>\n",
              "<style scoped>\n",
              "    .dataframe tbody tr th:only-of-type {\n",
              "        vertical-align: middle;\n",
              "    }\n",
              "\n",
              "    .dataframe tbody tr th {\n",
              "        vertical-align: top;\n",
              "    }\n",
              "\n",
              "    .dataframe thead th {\n",
              "        text-align: right;\n",
              "    }\n",
              "</style>\n",
              "<table border=\"1\" class=\"dataframe\">\n",
              "  <thead>\n",
              "    <tr style=\"text-align: right;\">\n",
              "      <th></th>\n",
              "      <th>key1</th>\n",
              "      <th>num1</th>\n",
              "      <th>num2</th>\n",
              "    </tr>\n",
              "  </thead>\n",
              "  <tbody>\n",
              "    <tr>\n",
              "      <th>0</th>\n",
              "      <td>b</td>\n",
              "      <td>1</td>\n",
              "      <td>0</td>\n",
              "    </tr>\n",
              "    <tr>\n",
              "      <th>1</th>\n",
              "      <td>c</td>\n",
              "      <td>2</td>\n",
              "      <td>1</td>\n",
              "    </tr>\n",
              "    <tr>\n",
              "      <th>2</th>\n",
              "      <td>c</td>\n",
              "      <td>3</td>\n",
              "      <td>1</td>\n",
              "    </tr>\n",
              "    <tr>\n",
              "      <th>3</th>\n",
              "      <td>e</td>\n",
              "      <td>5</td>\n",
              "      <td>2</td>\n",
              "    </tr>\n",
              "  </tbody>\n",
              "</table>\n",
              "</div>"
            ],
            "text/plain": [
              "  key1  num1  num2\n",
              "0    b     1     0\n",
              "1    c     2     1\n",
              "2    c     3     1\n",
              "3    e     5     2"
            ]
          },
          "execution_count": 93,
          "metadata": {},
          "output_type": "execute_result"
        }
      ],
      "source": [
        "pd.merge(d1, d2) # 공통된 column(key1)이 있어야 merge가 된다. -> 공통적인 key1값을 가져온다"
      ]
    },
    {
      "cell_type": "code",
      "execution_count": 89,
      "metadata": {
        "id": "HWPiXu-eULZ8"
      },
      "outputs": [
        {
          "data": {
            "text/html": [
              "<div>\n",
              "<style scoped>\n",
              "    .dataframe tbody tr th:only-of-type {\n",
              "        vertical-align: middle;\n",
              "    }\n",
              "\n",
              "    .dataframe tbody tr th {\n",
              "        vertical-align: top;\n",
              "    }\n",
              "\n",
              "    .dataframe thead th {\n",
              "        text-align: right;\n",
              "    }\n",
              "</style>\n",
              "<table border=\"1\" class=\"dataframe\">\n",
              "  <thead>\n",
              "    <tr style=\"text-align: right;\">\n",
              "      <th></th>\n",
              "      <th>key1</th>\n",
              "      <th>num1</th>\n",
              "      <th>num2</th>\n",
              "    </tr>\n",
              "  </thead>\n",
              "  <tbody>\n",
              "    <tr>\n",
              "      <th>0</th>\n",
              "      <td>b</td>\n",
              "      <td>1</td>\n",
              "      <td>0</td>\n",
              "    </tr>\n",
              "    <tr>\n",
              "      <th>1</th>\n",
              "      <td>c</td>\n",
              "      <td>2</td>\n",
              "      <td>1</td>\n",
              "    </tr>\n",
              "    <tr>\n",
              "      <th>2</th>\n",
              "      <td>c</td>\n",
              "      <td>3</td>\n",
              "      <td>1</td>\n",
              "    </tr>\n",
              "    <tr>\n",
              "      <th>3</th>\n",
              "      <td>e</td>\n",
              "      <td>5</td>\n",
              "      <td>2</td>\n",
              "    </tr>\n",
              "  </tbody>\n",
              "</table>\n",
              "</div>"
            ],
            "text/plain": [
              "  key1  num1  num2\n",
              "0    b     1     0\n",
              "1    c     2     1\n",
              "2    c     3     1\n",
              "3    e     5     2"
            ]
          },
          "execution_count": 89,
          "metadata": {},
          "output_type": "execute_result"
        }
      ],
      "source": [
        "pd.merge(d1, d2, on='key1')"
      ]
    },
    {
      "cell_type": "code",
      "execution_count": 95,
      "metadata": {
        "id": "Nr8s3ZPvULXo"
      },
      "outputs": [
        {
          "name": "stdout",
          "output_type": "stream",
          "text": [
            "  key1  num1\n",
            "0    a     0\n",
            "1    b     1\n",
            "2    c     2\n",
            "3    c     3\n",
            "4    d     4\n",
            "5    e     5\n",
            "  key2  num2\n",
            "0    b     0\n",
            "1    c     1\n",
            "2    e     2\n",
            "3    f     3\n"
          ]
        }
      ],
      "source": [
        "# Create the DataFrame called d3\n",
        "# key1: [\"a\", \"b\", \"c\", \"c\", \"d\", \"e\"]\n",
        "# num1: [0, 1, 2, 3, 4, 5]\n",
        "d3 = pd.DataFrame(\n",
        "    {\n",
        "        \"key1\" : [\"a\", \"b\", \"c\", \"c\", \"d\", \"e\"],\n",
        "        \"num1\": [0, 1, 2, 3, 4, 5]\n",
        "    }\n",
        ")\n",
        "\n",
        "# Create the DataFrame called d4\n",
        "# key2: [\"b\", \"c\", \"e\", \"f\"]\n",
        "# num2: [0, 1, 2, 3]\n",
        "d4 = pd.DataFrame(\n",
        "    {\n",
        "        \"key2\" : [\"b\", \"c\", \"e\", \"f\"],\n",
        "        \"num2\": [0, 1, 2, 3]\n",
        "    }\n",
        ")\n",
        "\n",
        "print(d3)\n",
        "print(d4)"
      ]
    },
    {
      "cell_type": "code",
      "execution_count": 98,
      "metadata": {
        "id": "kBWhaYmbUUNU"
      },
      "outputs": [
        {
          "data": {
            "text/html": [
              "<div>\n",
              "<style scoped>\n",
              "    .dataframe tbody tr th:only-of-type {\n",
              "        vertical-align: middle;\n",
              "    }\n",
              "\n",
              "    .dataframe tbody tr th {\n",
              "        vertical-align: top;\n",
              "    }\n",
              "\n",
              "    .dataframe thead th {\n",
              "        text-align: right;\n",
              "    }\n",
              "</style>\n",
              "<table border=\"1\" class=\"dataframe\">\n",
              "  <thead>\n",
              "    <tr style=\"text-align: right;\">\n",
              "      <th></th>\n",
              "      <th>key1</th>\n",
              "      <th>num1</th>\n",
              "      <th>key2</th>\n",
              "      <th>num2</th>\n",
              "    </tr>\n",
              "  </thead>\n",
              "  <tbody>\n",
              "    <tr>\n",
              "      <th>0</th>\n",
              "      <td>b</td>\n",
              "      <td>1</td>\n",
              "      <td>b</td>\n",
              "      <td>0</td>\n",
              "    </tr>\n",
              "    <tr>\n",
              "      <th>1</th>\n",
              "      <td>c</td>\n",
              "      <td>2</td>\n",
              "      <td>c</td>\n",
              "      <td>1</td>\n",
              "    </tr>\n",
              "    <tr>\n",
              "      <th>2</th>\n",
              "      <td>c</td>\n",
              "      <td>3</td>\n",
              "      <td>c</td>\n",
              "      <td>1</td>\n",
              "    </tr>\n",
              "    <tr>\n",
              "      <th>3</th>\n",
              "      <td>e</td>\n",
              "      <td>5</td>\n",
              "      <td>e</td>\n",
              "      <td>2</td>\n",
              "    </tr>\n",
              "  </tbody>\n",
              "</table>\n",
              "</div>"
            ],
            "text/plain": [
              "  key1  num1 key2  num2\n",
              "0    b     1    b     0\n",
              "1    c     2    c     1\n",
              "2    c     3    c     1\n",
              "3    e     5    e     2"
            ]
          },
          "execution_count": 98,
          "metadata": {},
          "output_type": "execute_result"
        }
      ],
      "source": [
        "pd.merge(d3, d4, left_on=\"key1\", right_on=\"key2\")"
      ]
    },
    {
      "cell_type": "code",
      "execution_count": 99,
      "metadata": {
        "id": "I6QDgw2x5JC2"
      },
      "outputs": [
        {
          "data": {
            "text/html": [
              "<div>\n",
              "<style scoped>\n",
              "    .dataframe tbody tr th:only-of-type {\n",
              "        vertical-align: middle;\n",
              "    }\n",
              "\n",
              "    .dataframe tbody tr th {\n",
              "        vertical-align: top;\n",
              "    }\n",
              "\n",
              "    .dataframe thead th {\n",
              "        text-align: right;\n",
              "    }\n",
              "</style>\n",
              "<table border=\"1\" class=\"dataframe\">\n",
              "  <thead>\n",
              "    <tr style=\"text-align: right;\">\n",
              "      <th></th>\n",
              "      <th>key1</th>\n",
              "      <th>num1</th>\n",
              "      <th>num2</th>\n",
              "    </tr>\n",
              "  </thead>\n",
              "  <tbody>\n",
              "    <tr>\n",
              "      <th>0</th>\n",
              "      <td>a</td>\n",
              "      <td>0.0</td>\n",
              "      <td>NaN</td>\n",
              "    </tr>\n",
              "    <tr>\n",
              "      <th>1</th>\n",
              "      <td>b</td>\n",
              "      <td>1.0</td>\n",
              "      <td>0.0</td>\n",
              "    </tr>\n",
              "    <tr>\n",
              "      <th>2</th>\n",
              "      <td>c</td>\n",
              "      <td>2.0</td>\n",
              "      <td>1.0</td>\n",
              "    </tr>\n",
              "    <tr>\n",
              "      <th>3</th>\n",
              "      <td>c</td>\n",
              "      <td>3.0</td>\n",
              "      <td>1.0</td>\n",
              "    </tr>\n",
              "    <tr>\n",
              "      <th>4</th>\n",
              "      <td>d</td>\n",
              "      <td>4.0</td>\n",
              "      <td>NaN</td>\n",
              "    </tr>\n",
              "    <tr>\n",
              "      <th>5</th>\n",
              "      <td>e</td>\n",
              "      <td>5.0</td>\n",
              "      <td>2.0</td>\n",
              "    </tr>\n",
              "    <tr>\n",
              "      <th>6</th>\n",
              "      <td>f</td>\n",
              "      <td>NaN</td>\n",
              "      <td>3.0</td>\n",
              "    </tr>\n",
              "  </tbody>\n",
              "</table>\n",
              "</div>"
            ],
            "text/plain": [
              "  key1  num1  num2\n",
              "0    a   0.0   NaN\n",
              "1    b   1.0   0.0\n",
              "2    c   2.0   1.0\n",
              "3    c   3.0   1.0\n",
              "4    d   4.0   NaN\n",
              "5    e   5.0   2.0\n",
              "6    f   NaN   3.0"
            ]
          },
          "execution_count": 99,
          "metadata": {},
          "output_type": "execute_result"
        }
      ],
      "source": [
        "pd.merge(d1,d2,how=\"outer\") # 합집합"
      ]
    },
    {
      "cell_type": "code",
      "execution_count": 100,
      "metadata": {
        "id": "ph4lZFpS5IYX"
      },
      "outputs": [
        {
          "data": {
            "text/html": [
              "<div>\n",
              "<style scoped>\n",
              "    .dataframe tbody tr th:only-of-type {\n",
              "        vertical-align: middle;\n",
              "    }\n",
              "\n",
              "    .dataframe tbody tr th {\n",
              "        vertical-align: top;\n",
              "    }\n",
              "\n",
              "    .dataframe thead th {\n",
              "        text-align: right;\n",
              "    }\n",
              "</style>\n",
              "<table border=\"1\" class=\"dataframe\">\n",
              "  <thead>\n",
              "    <tr style=\"text-align: right;\">\n",
              "      <th></th>\n",
              "      <th>key1</th>\n",
              "      <th>num1</th>\n",
              "      <th>num2</th>\n",
              "    </tr>\n",
              "  </thead>\n",
              "  <tbody>\n",
              "    <tr>\n",
              "      <th>0</th>\n",
              "      <td>a</td>\n",
              "      <td>0</td>\n",
              "      <td>NaN</td>\n",
              "    </tr>\n",
              "    <tr>\n",
              "      <th>1</th>\n",
              "      <td>b</td>\n",
              "      <td>1</td>\n",
              "      <td>0.0</td>\n",
              "    </tr>\n",
              "    <tr>\n",
              "      <th>2</th>\n",
              "      <td>c</td>\n",
              "      <td>2</td>\n",
              "      <td>1.0</td>\n",
              "    </tr>\n",
              "    <tr>\n",
              "      <th>3</th>\n",
              "      <td>c</td>\n",
              "      <td>3</td>\n",
              "      <td>1.0</td>\n",
              "    </tr>\n",
              "    <tr>\n",
              "      <th>4</th>\n",
              "      <td>d</td>\n",
              "      <td>4</td>\n",
              "      <td>NaN</td>\n",
              "    </tr>\n",
              "    <tr>\n",
              "      <th>5</th>\n",
              "      <td>e</td>\n",
              "      <td>5</td>\n",
              "      <td>2.0</td>\n",
              "    </tr>\n",
              "  </tbody>\n",
              "</table>\n",
              "</div>"
            ],
            "text/plain": [
              "  key1  num1  num2\n",
              "0    a     0   NaN\n",
              "1    b     1   0.0\n",
              "2    c     2   1.0\n",
              "3    c     3   1.0\n",
              "4    d     4   NaN\n",
              "5    e     5   2.0"
            ]
          },
          "execution_count": 100,
          "metadata": {},
          "output_type": "execute_result"
        }
      ],
      "source": [
        "pd.merge(d1,d2,how=\"left\") # 왼쪽 데이터 프레임 기준으로 왼쪽에 맞춰 합치기\n",
        "\n",
        "# num1 column에 nan이 없게끔 합치기"
      ]
    },
    {
      "cell_type": "code",
      "execution_count": 101,
      "metadata": {
        "id": "elrjL-9k5IVq"
      },
      "outputs": [
        {
          "data": {
            "text/html": [
              "<div>\n",
              "<style scoped>\n",
              "    .dataframe tbody tr th:only-of-type {\n",
              "        vertical-align: middle;\n",
              "    }\n",
              "\n",
              "    .dataframe tbody tr th {\n",
              "        vertical-align: top;\n",
              "    }\n",
              "\n",
              "    .dataframe thead th {\n",
              "        text-align: right;\n",
              "    }\n",
              "</style>\n",
              "<table border=\"1\" class=\"dataframe\">\n",
              "  <thead>\n",
              "    <tr style=\"text-align: right;\">\n",
              "      <th></th>\n",
              "      <th>key1</th>\n",
              "      <th>num1</th>\n",
              "      <th>num2</th>\n",
              "    </tr>\n",
              "  </thead>\n",
              "  <tbody>\n",
              "    <tr>\n",
              "      <th>0</th>\n",
              "      <td>b</td>\n",
              "      <td>1.0</td>\n",
              "      <td>0</td>\n",
              "    </tr>\n",
              "    <tr>\n",
              "      <th>1</th>\n",
              "      <td>c</td>\n",
              "      <td>2.0</td>\n",
              "      <td>1</td>\n",
              "    </tr>\n",
              "    <tr>\n",
              "      <th>2</th>\n",
              "      <td>c</td>\n",
              "      <td>3.0</td>\n",
              "      <td>1</td>\n",
              "    </tr>\n",
              "    <tr>\n",
              "      <th>3</th>\n",
              "      <td>e</td>\n",
              "      <td>5.0</td>\n",
              "      <td>2</td>\n",
              "    </tr>\n",
              "    <tr>\n",
              "      <th>4</th>\n",
              "      <td>f</td>\n",
              "      <td>NaN</td>\n",
              "      <td>3</td>\n",
              "    </tr>\n",
              "  </tbody>\n",
              "</table>\n",
              "</div>"
            ],
            "text/plain": [
              "  key1  num1  num2\n",
              "0    b   1.0     0\n",
              "1    c   2.0     1\n",
              "2    c   3.0     1\n",
              "3    e   5.0     2\n",
              "4    f   NaN     3"
            ]
          },
          "execution_count": 101,
          "metadata": {},
          "output_type": "execute_result"
        }
      ],
      "source": [
        "pd.merge(d1,d2,how=\"right\") # 오른쪽 데이터 프레임 기준으로 오른쪽에 맞춰 합치기\n",
        "\n",
        "# num2 column에 nan이 없게끔 합치기"
      ]
    },
    {
      "cell_type": "code",
      "execution_count": 102,
      "metadata": {
        "id": "3v9W4V4F5ITc"
      },
      "outputs": [
        {
          "data": {
            "text/html": [
              "<div>\n",
              "<style scoped>\n",
              "    .dataframe tbody tr th:only-of-type {\n",
              "        vertical-align: middle;\n",
              "    }\n",
              "\n",
              "    .dataframe tbody tr th {\n",
              "        vertical-align: top;\n",
              "    }\n",
              "\n",
              "    .dataframe thead th {\n",
              "        text-align: right;\n",
              "    }\n",
              "</style>\n",
              "<table border=\"1\" class=\"dataframe\">\n",
              "  <thead>\n",
              "    <tr style=\"text-align: right;\">\n",
              "      <th></th>\n",
              "      <th>key1</th>\n",
              "      <th>num1</th>\n",
              "      <th>num2</th>\n",
              "    </tr>\n",
              "  </thead>\n",
              "  <tbody>\n",
              "    <tr>\n",
              "      <th>0</th>\n",
              "      <td>b</td>\n",
              "      <td>1</td>\n",
              "      <td>0</td>\n",
              "    </tr>\n",
              "    <tr>\n",
              "      <th>1</th>\n",
              "      <td>c</td>\n",
              "      <td>2</td>\n",
              "      <td>1</td>\n",
              "    </tr>\n",
              "    <tr>\n",
              "      <th>2</th>\n",
              "      <td>c</td>\n",
              "      <td>3</td>\n",
              "      <td>1</td>\n",
              "    </tr>\n",
              "    <tr>\n",
              "      <th>3</th>\n",
              "      <td>e</td>\n",
              "      <td>5</td>\n",
              "      <td>2</td>\n",
              "    </tr>\n",
              "  </tbody>\n",
              "</table>\n",
              "</div>"
            ],
            "text/plain": [
              "  key1  num1  num2\n",
              "0    b     1     0\n",
              "1    c     2     1\n",
              "2    c     3     1\n",
              "3    e     5     2"
            ]
          },
          "execution_count": 102,
          "metadata": {},
          "output_type": "execute_result"
        }
      ],
      "source": [
        "pd.merge(d1, d2, how='inner') # 교집합"
      ]
    },
    {
      "cell_type": "markdown",
      "metadata": {
        "id": "fZMrvafZzv8E"
      },
      "source": [
        "### Missing Data in Pandas\n"
      ]
    },
    {
      "cell_type": "code",
      "execution_count": 104,
      "metadata": {
        "id": "LsWJzPI2zvmX"
      },
      "outputs": [
        {
          "name": "stdout",
          "output_type": "stream",
          "text": [
            "     0    1    2\n",
            "0  1.0  2.0  3.0\n",
            "1  4.0  NaN  5.0\n",
            "2  NaN  NaN  NaN\n"
          ]
        }
      ],
      "source": [
        "from numpy import nan as NA\n",
        "\n",
        "# Create a 3 by 3DataFrame with [[1,2,3],[4,NA,5],[NA,NA,NA]]\n",
        "df = pd.DataFrame([\n",
        "    [1,2,3],[4,NA,5],[NA,NA,NA]\n",
        "])\n",
        "\n",
        "print(df)"
      ]
    },
    {
      "cell_type": "code",
      "execution_count": 106,
      "metadata": {},
      "outputs": [
        {
          "name": "stdout",
          "output_type": "stream",
          "text": [
            "       0      1      2\n",
            "0  False  False  False\n",
            "1  False   True  False\n",
            "2   True   True   True\n"
          ]
        }
      ],
      "source": [
        "print(df.isna())"
      ]
    },
    {
      "cell_type": "code",
      "execution_count": 105,
      "metadata": {
        "id": "xCQJ_nwaWjge"
      },
      "outputs": [
        {
          "name": "stdout",
          "output_type": "stream",
          "text": [
            "     0    1    2\n",
            "0  1.0  2.0  3.0\n"
          ]
        }
      ],
      "source": [
        "# Remove rows containing NaN values\n",
        "print(df.dropna())  # default : any -> nan 하나라도 있으면 drop"
      ]
    },
    {
      "cell_type": "code",
      "execution_count": 107,
      "metadata": {
        "id": "VYwYEnww0U2f"
      },
      "outputs": [
        {
          "name": "stdout",
          "output_type": "stream",
          "text": [
            "     0    1    2\n",
            "0  1.0  2.0  3.0\n",
            "1  4.0  NaN  5.0\n"
          ]
        }
      ],
      "source": [
        "# Remove rows containing NaN values when all the values are NaN\n",
        "print(df.dropna(how=\"all\")) # all -> 모두 nan이어야 drop "
      ]
    },
    {
      "cell_type": "code",
      "execution_count": 109,
      "metadata": {
        "id": "nWjIAQS80U0e"
      },
      "outputs": [
        {
          "name": "stdout",
          "output_type": "stream",
          "text": [
            "      0     1     2\n",
            "0   1.0   2.0   3.0\n",
            "1   4.0  25.0   5.0\n",
            "2  15.0  25.0  35.0\n"
          ]
        }
      ],
      "source": [
        "# Fill NA values\n",
        "# NA in the first column with 15\n",
        "# NA in the first column with 25\n",
        "# NA in the first column with 35\n",
        "print(df.fillna({0:15,1:25,2:35}))"
      ]
    },
    {
      "cell_type": "code",
      "execution_count": null,
      "metadata": {},
      "outputs": [],
      "source": []
    }
  ],
  "metadata": {
    "colab": {
      "provenance": []
    },
    "kernelspec": {
      "display_name": "Python 3",
      "name": "python3"
    },
    "language_info": {
      "codemirror_mode": {
        "name": "ipython",
        "version": 3
      },
      "file_extension": ".py",
      "mimetype": "text/x-python",
      "name": "python",
      "nbconvert_exporter": "python",
      "pygments_lexer": "ipython3",
      "version": "3.9.13"
    }
  },
  "nbformat": 4,
  "nbformat_minor": 0
}
