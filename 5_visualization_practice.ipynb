{
  "nbformat": 4,
  "nbformat_minor": 0,
  "metadata": {
    "colab": {
      "provenance": []
    },
    "kernelspec": {
      "name": "python3",
      "display_name": "Python 3"
    },
    "language_info": {
      "name": "python"
    }
  },
  "cells": [
    {
      "cell_type": "markdown",
      "source": [
        "# 데이터사이언스 (0010085001)\n",
        "\n",
        "## Exercise 5: Libraries for Data Science (Visualization)\n",
        "\n",
        "In this excercise, we will cover Python visualization libraries containing Matplotlib and Seaborn.\n"
      ],
      "metadata": {
        "id": "Ad3KH2GnL1UA"
      }
    },
    {
      "cell_type": "code",
      "source": [
        "import numpy as np\n",
        "import matplotlib.pyplot as plt\n",
        "\n",
        "%matplotlib inline"
      ],
      "metadata": {
        "id": "ZyaEDLhNWhBs"
      },
      "execution_count": null,
      "outputs": []
    },
    {
      "cell_type": "markdown",
      "source": [
        "### Matplotlib\n",
        "#### Plotting\n",
        "The most important function in `matplotlib` is plot, which allows you to plot 2D data."
      ],
      "metadata": {
        "id": "6RwqgjuWX2O4"
      }
    },
    {
      "cell_type": "code",
      "source": [
        "# Compute the x and y coordinates for points on a sine curve\n",
        "x = \n",
        "y = "
      ],
      "metadata": {
        "id": "XVKrCZOcX0Yl"
      },
      "execution_count": null,
      "outputs": []
    },
    {
      "cell_type": "code",
      "source": [
        "# Plot the points using matplotlib\n",
        "plt.plot(x, y, 'o-', color='b')\n",
        "\n",
        "# Refefence\n",
        "# https://matplotlib.org/stable/api/_as_gen/matplotlib.pyplot.plot.html#"
      ],
      "metadata": {
        "id": "4HCKj4ieX0bH"
      },
      "execution_count": null,
      "outputs": []
    },
    {
      "cell_type": "code",
      "source": [
        "# Plot the points using matplotlib\n",
        "plt.plot(x, y, 'o')"
      ],
      "metadata": {
        "id": "IfoiLKttX0dV"
      },
      "execution_count": null,
      "outputs": []
    },
    {
      "cell_type": "code",
      "source": [
        "y_sin = np.sin(x)\n",
        "y_cos = np.cos(x)\n",
        "\n",
        "# Plot the points using matplotlib\n",
        "plt.plot(x, y_sin)\n",
        "plt.plot(x, y_cos)\n",
        "plt.xlabel('x axis label')\n",
        "plt.ylabel('y axis label')\n",
        "plt.title('Sine and Cosine')\n",
        "plt.legend(['Sine', 'Cosine'])"
      ],
      "metadata": {
        "id": "H-rNE2f3X0h7"
      },
      "execution_count": null,
      "outputs": []
    },
    {
      "cell_type": "markdown",
      "source": [
        "#### Subplots \n",
        "You can plot different things in the same figure using the subplot function."
      ],
      "metadata": {
        "id": "4-GmguMbX6_C"
      }
    },
    {
      "cell_type": "code",
      "source": [
        "# Compute the x and y coordinates for points on sine and cosine curves\n",
        "x = \n",
        "y_sin = \n",
        "y_cos = \n",
        "\n",
        "# Set up a subplot grid that has height 2 and width 1,\n",
        "# and set the first such subplot as active, and make the first plot.\n",
        "plt.subplot()\n",
        "plt.plot(x, y_sin)\n",
        "plt.title('Sine')\n",
        "\n",
        "# Set the second subplot as active, and make the second plot.\n",
        "plt.subplot()\n",
        "plt.plot(x, y_cos)\n",
        "plt.title('Cosine')\n",
        "\n",
        "# Show the figure.\n",
        "plt.show()"
      ],
      "metadata": {
        "id": "c2fvMIJgX0kV"
      },
      "execution_count": null,
      "outputs": []
    },
    {
      "cell_type": "markdown",
      "source": [
        "#### Image\n",
        "Plotting images with Matplotlib"
      ],
      "metadata": {
        "id": "oLGsbitX1Lcn"
      }
    },
    {
      "cell_type": "code",
      "source": [
        "from PIL import Image"
      ],
      "metadata": {
        "id": "WrH5RuzT2C6L"
      },
      "execution_count": null,
      "outputs": []
    },
    {
      "cell_type": "code",
      "source": [
        "# Download a picture from the web that you would like to use for exercise and upload it to 'file' directory\n",
        "\n",
        "# https://stats.stackexchange.com/users/287447/statistical-shiba-inu\n",
        "path = './inu.jpg'\n",
        "img = Image.open(path)\n",
        "img = np.asarray(img)\n",
        "\n",
        "print(img)"
      ],
      "metadata": {
        "id": "XCDvJ2P41Qhg"
      },
      "execution_count": null,
      "outputs": []
    },
    {
      "cell_type": "code",
      "source": [
        "# Plotting numpy arrays as images\n",
        "imgplot = plt.imshow(img)"
      ],
      "metadata": {
        "id": "Dc3v0uNe2NZU"
      },
      "execution_count": null,
      "outputs": []
    },
    {
      "cell_type": "code",
      "source": [
        "# Applying pseudocolor schemes to image plots\n",
        "lum_img = img[:, :, 0]\n",
        "plt.imshow(lum_img) # default: viridis"
      ],
      "metadata": {
        "id": "qUD5mk_j2wOh"
      },
      "execution_count": null,
      "outputs": []
    },
    {
      "cell_type": "code",
      "source": [
        "# Change cmap info\n",
        "plt.imshow(lum_img, cmap='hot')\n",
        "\n",
        "# Reference\n",
        "# https://matplotlib.org/stable/tutorials/colors/colormaps.html"
      ],
      "metadata": {
        "id": "EqqPXM0325VS"
      },
      "execution_count": null,
      "outputs": []
    },
    {
      "cell_type": "code",
      "source": [
        "# Change cmap info\n",
        "imgplot = plt.imshow(lum_img)\n",
        "imgplot.set_cmap('nipy_spectral')"
      ],
      "metadata": {
        "id": "yQJcrp043cWk"
      },
      "execution_count": null,
      "outputs": []
    },
    {
      "cell_type": "code",
      "source": [
        "# Color scale reference\n",
        "imgplot = plt.imshow(lum_img)\n",
        "plt.colorbar()"
      ],
      "metadata": {
        "id": "VIX70HkC3gfx"
      },
      "execution_count": null,
      "outputs": []
    },
    {
      "cell_type": "code",
      "source": [
        "# Examining a specific data range\n",
        "plt.hist(lum_img.ravel(), bins=range(256))"
      ],
      "metadata": {
        "id": "8E43Ombd3wvM"
      },
      "execution_count": null,
      "outputs": []
    },
    {
      "cell_type": "code",
      "source": [
        "# Apply thumnail function\n",
        "path = './inu.jpg'\n",
        "img = Image.open(path)\n",
        "\n",
        "img.thumbnail((64, 64))\n",
        "img_thum = plt.imshow(img)"
      ],
      "metadata": {
        "id": "tX7zRyF64mHy"
      },
      "execution_count": null,
      "outputs": []
    },
    {
      "cell_type": "code",
      "source": [
        "# Apply interpolation\n",
        "imgplot = plt.imshow(img, interpolation=\"bilinear\")"
      ],
      "metadata": {
        "id": "pmPirOs249aD"
      },
      "execution_count": null,
      "outputs": []
    },
    {
      "cell_type": "markdown",
      "source": [
        "### Seaborn\n",
        "Data analysis with Pandas"
      ],
      "metadata": {
        "id": "8CBNwAz56-qM"
      }
    },
    {
      "cell_type": "code",
      "source": [
        "import seaborn as sns\n",
        "import pandas as pd"
      ],
      "metadata": {
        "id": "eZu2H7HO8RMG"
      },
      "execution_count": null,
      "outputs": []
    },
    {
      "cell_type": "code",
      "source": [
        "# Downlaod 'pokemon.csv' data following link and upload it to the 'file' directory\n",
        "# https://www.kaggle.com/code/gkhan496/visualizing-pok-mon-stats-with-seaborn-hw/input\n",
        "\n",
        "df = pd.read_csv('./pokemon.csv', index_col=0)\n",
        "\n",
        "df.head()"
      ],
      "metadata": {
        "id": "irVFY8Ed7sOJ"
      },
      "execution_count": null,
      "outputs": []
    },
    {
      "cell_type": "code",
      "source": [
        "df.tail()"
      ],
      "metadata": {
        "id": "OjT8PqB59EHp"
      },
      "execution_count": null,
      "outputs": []
    },
    {
      "cell_type": "code",
      "source": [
        "df.sample(6)"
      ],
      "metadata": {
        "id": "z_5I8Sow9RNJ"
      },
      "execution_count": null,
      "outputs": []
    },
    {
      "cell_type": "code",
      "source": [
        "df.shape"
      ],
      "metadata": {
        "id": "jgLD5F3I9SLn"
      },
      "execution_count": null,
      "outputs": []
    },
    {
      "cell_type": "code",
      "source": [
        "df.dtypes"
      ],
      "metadata": {
        "id": "1iDlPDYY9Tiv"
      },
      "execution_count": null,
      "outputs": []
    },
    {
      "cell_type": "code",
      "source": [
        "df.columns"
      ],
      "metadata": {
        "id": "pJ54pA9v9Udb"
      },
      "execution_count": null,
      "outputs": []
    },
    {
      "cell_type": "code",
      "source": [
        "df.describe()"
      ],
      "metadata": {
        "id": "QZf2vCPo9W7o"
      },
      "execution_count": null,
      "outputs": []
    },
    {
      "cell_type": "code",
      "source": [
        "print(df[df['Legendary']==True])"
      ],
      "metadata": {
        "id": "AZVyQ4c6rpe9"
      },
      "execution_count": null,
      "outputs": []
    },
    {
      "cell_type": "markdown",
      "source": [
        "#### Data visualization with Seaborn"
      ],
      "metadata": {
        "id": "wJDwE4iJ9nhA"
      }
    },
    {
      "cell_type": "code",
      "source": [
        "# barplot\n",
        "plt.figure(figsize=(10,8))\n",
        "sns.lmplot(x='Attack', y='Defense', data=df, hue='Type 1')\n",
        "plt.ylim(0,None)\n",
        "\n",
        "# Reference\n",
        "# https://seaborn.pydata.org/generated/seaborn.lmplot.html"
      ],
      "metadata": {
        "id": "RIhMO6n99m-m"
      },
      "execution_count": null,
      "outputs": []
    },
    {
      "cell_type": "code",
      "source": [
        "# boxplot\n",
        "plt.figure(figsize=(10,8))\n",
        "sns.boxplot(data=df)\n",
        "\n",
        "# Reference\n",
        "# https://seaborn.pydata.org/generated/seaborn.boxplot.html"
      ],
      "metadata": {
        "id": "Wpu5pfAb9i47"
      },
      "execution_count": null,
      "outputs": []
    },
    {
      "cell_type": "code",
      "source": [
        "# drop Total, Generation and Legendary columns\n",
        "plt.figure(figsize=(10, 8))\n",
        "stats_df = df.drop(['Total', 'Generation','Legendary'], axis=1)\n",
        "sns.boxplot(data=stats_df)"
      ],
      "metadata": {
        "id": "nLs584Qv-JUq"
      },
      "execution_count": null,
      "outputs": []
    },
    {
      "cell_type": "code",
      "source": [
        "# violin plot\n",
        "# sns.set_style('white')\n",
        "plt.figure(figsize=(12, 8))\n",
        "sns.violinplot(x='Type 1', y='Attack', data=df)\n",
        "# sns.violinplot(x='Type 1', y='Defense', data=df)\n",
        "\n",
        "# Reference\n",
        "# https://seaborn.pydata.org/generated/seaborn.boxplot.html"
      ],
      "metadata": {
        "id": "L0crMCU9-L8u"
      },
      "execution_count": null,
      "outputs": []
    },
    {
      "cell_type": "code",
      "source": [
        "# Correlation\n",
        "corr = stats_df.corr()\n",
        " \n",
        "# heatmap\n",
        "sns.heatmap(corr)\n",
        "\n",
        "# Reference\n",
        "# https://seaborn.pydata.org/generated/seaborn.heatmap.html"
      ],
      "metadata": {
        "id": "h1NqPcckA80q"
      },
      "execution_count": null,
      "outputs": []
    },
    {
      "cell_type": "code",
      "source": [
        "# histogram\n",
        "sns.distplot(df.Attack)\n",
        "\n",
        "# Reference\n",
        "# https://seaborn.pydata.org/generated/seaborn.distplot.html"
      ],
      "metadata": {
        "id": "6Zk9uRcPFsVJ"
      },
      "execution_count": null,
      "outputs": []
    },
    {
      "cell_type": "code",
      "source": [
        "# countplot\n",
        "sns.countplot(x='Type 1', data=df)\n",
        " \n",
        "# Rotate x-labels\n",
        "plt.xticks(rotation=-45)\n",
        "\n",
        "# Reference\n",
        "# https://seaborn.pydata.org/generated/seaborn.countplot.html"
      ],
      "metadata": {
        "id": "dNSGi_83GCvX"
      },
      "execution_count": null,
      "outputs": []
    }
  ]
}