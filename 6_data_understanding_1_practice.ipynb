{
  "nbformat": 4,
  "nbformat_minor": 0,
  "metadata": {
    "colab": {
      "provenance": []
    },
    "kernelspec": {
      "name": "python3",
      "display_name": "Python 3"
    },
    "language_info": {
      "name": "python"
    }
  },
  "cells": [
    {
      "cell_type": "markdown",
      "source": [
        "# 데이터사이언스 (0010085001)\n",
        "\n",
        "## Exercise 6: Data Understanding (1)\n",
        "\n",
        "In this excercise, we will cover the exercise on the data understanding. We will learn how to adjust and handle missing values or strange values in the data."
      ],
      "metadata": {
        "id": "Ad3KH2GnL1UA"
      }
    },
    {
      "cell_type": "code",
      "source": [
        "import numpy as np\n",
        "import pandas as pd\n",
        "import matplotlib.pyplot as plt\n",
        "\n",
        "import requests\n",
        "\n",
        "%matplotlib inline"
      ],
      "metadata": {
        "id": "ZyaEDLhNWhBs"
      },
      "execution_count": null,
      "outputs": []
    },
    {
      "cell_type": "markdown",
      "source": [
        "### 1. 날짜 자료형\n",
        "\n",
        "#### 예제: html 에서 테이블 데이터 가져오기\n",
        "\n",
        "https://pandas.pydata.org/docs/reference/api/pandas.read_html.html"
      ],
      "metadata": {
        "id": "6RwqgjuWX2O4"
      }
    },
    {
      "cell_type": "code",
      "source": [
        "# Step 1: 파일 읽어오기\n",
        "url = 'https://www.fdic.gov/resources/resolutions/bank-failures/failed-bank-list/'\n",
        "\n",
        "# html에서 표 가져오기\n",
        "dfs = "
      ],
      "metadata": {
        "id": "av5DOfPt42ou"
      },
      "execution_count": null,
      "outputs": []
    },
    {
      "cell_type": "code",
      "source": [
        "# 데이터 프레임 길이 출력\n"
      ],
      "metadata": {
        "id": "65ydbIx86ez_"
      },
      "execution_count": null,
      "outputs": []
    },
    {
      "cell_type": "code",
      "source": [
        "# 리스트 내의 첫 번째 원소를 다른 변수에 할당\n",
        "# 첫 번째 데이터만 가져오면 데이터프레임\n",
        "dfs = "
      ],
      "metadata": {
        "id": "cafuixC_6bHS"
      },
      "execution_count": null,
      "outputs": []
    },
    {
      "cell_type": "code",
      "source": [
        "# 데이터프레임의 첫 5줄 출력\n"
      ],
      "metadata": {
        "id": "ofzXwVs06bFH"
      },
      "execution_count": null,
      "outputs": []
    },
    {
      "cell_type": "code",
      "source": [
        "# 데이터프레임 크기 확인\n"
      ],
      "metadata": {
        "id": "MThfA6Kr6jII"
      },
      "execution_count": null,
      "outputs": []
    },
    {
      "cell_type": "code",
      "source": [
        "# 각 row 의 정보를 출력\n",
        "# 데이터프레임의 구성 정보 확인\n"
      ],
      "metadata": {
        "id": "WCw9pCQd6jGJ"
      },
      "execution_count": null,
      "outputs": []
    },
    {
      "cell_type": "code",
      "source": [
        "# Step 2: 날짜 변경\n",
        "# 문자열을 날짜형으로 변경\n",
        "dfs['Closing Date'] = "
      ],
      "metadata": {
        "id": "fTPSwRzX6jD1"
      },
      "execution_count": null,
      "outputs": []
    },
    {
      "cell_type": "code",
      "source": [
        "# 데이터프레임의 첫 5줄 출력\n"
      ],
      "metadata": {
        "id": "rDEi8QuS6i_P"
      },
      "execution_count": null,
      "outputs": []
    },
    {
      "cell_type": "code",
      "source": [
        "# 자료형 확인\n"
      ],
      "metadata": {
        "id": "PQmXOzEp6i86"
      },
      "execution_count": null,
      "outputs": []
    },
    {
      "cell_type": "code",
      "source": [
        "# Step 3: 날짜의 연도만 추출\n",
        "# 날짜 형을 변경하거나 조작할 경우 dt 연산자 사용\n",
        "dfs['Closing Date'].dt"
      ],
      "metadata": {
        "id": "8bU7595P6i6u"
      },
      "execution_count": null,
      "outputs": []
    },
    {
      "cell_type": "code",
      "source": [
        "# 날짜에서 year, month, day 를 새로운 column 으로 생성\n",
        "dfs['Year'] = \n",
        "dfs['Month'] = \n",
        "dfs['Day'] = "
      ],
      "metadata": {
        "id": "yhsk65Ce6i4h"
      },
      "execution_count": null,
      "outputs": []
    },
    {
      "cell_type": "code",
      "source": [
        "# 데이터프레임의 첫 5줄 출력\n"
      ],
      "metadata": {
        "id": "kIY-EEtT6i2S"
      },
      "execution_count": null,
      "outputs": []
    },
    {
      "cell_type": "code",
      "source": [
        "# Step 4: 파일로 저장하기\n"
      ],
      "metadata": {
        "id": "-SabXGX16i0Z"
      },
      "execution_count": null,
      "outputs": []
    },
    {
      "cell_type": "code",
      "source": [
        "# Step 5: 파일에서 다시 읽기\n",
        "# 문자 열을 처음부터 날짜로 변환\n",
        "dfs_ = "
      ],
      "metadata": {
        "id": "Hux_wyqq6iyH"
      },
      "execution_count": null,
      "outputs": []
    },
    {
      "cell_type": "code",
      "source": [
        "# 각 row 의 정보를 출력\n"
      ],
      "metadata": {
        "id": "cB6Yl5_26ivy"
      },
      "execution_count": null,
      "outputs": []
    },
    {
      "cell_type": "code",
      "source": [
        "# 데이터프레임의 첫 5줄 출력\n"
      ],
      "metadata": {
        "id": "GwoxdH9O6itp"
      },
      "execution_count": null,
      "outputs": []
    },
    {
      "cell_type": "code",
      "source": [
        "# 불필요한 column 제거\n"
      ],
      "metadata": {
        "id": "rECCjhzl6ire"
      },
      "execution_count": null,
      "outputs": []
    },
    {
      "cell_type": "code",
      "source": [
        "# 년도 열을 기준으로 히스토그램 그래프 생성\n"
      ],
      "metadata": {
        "id": "CJKr0zyA6ipK"
      },
      "execution_count": null,
      "outputs": []
    },
    {
      "cell_type": "markdown",
      "source": [
        "### 2. 결측치 및 이상치 값 정리\n",
        "\n",
        "#### 예제: 구글스토어 자료로 자료형 변경\n",
        "\n",
        "https://pandas.pydata.org/docs/reference/api/pandas.read_csv.html"
      ],
      "metadata": {
        "id": "_sEh9zf4-9J8"
      }
    },
    {
      "cell_type": "code",
      "source": [
        "# Step 1: 캐글에서 데이터 받기\n",
        "# url = 'https://kaggle.com/lava18/google-play-store-apps'"
      ],
      "metadata": {
        "id": "12cbxCfJ6im9"
      },
      "execution_count": null,
      "outputs": []
    },
    {
      "cell_type": "code",
      "source": [
        "# Step 2: 파일을 읽어 데이터프레임으로 변환\n",
        "gstore = "
      ],
      "metadata": {
        "id": "bHg0Mts66ik1"
      },
      "execution_count": null,
      "outputs": []
    },
    {
      "cell_type": "code",
      "source": [
        "# 데이터프레임 크기 확인\n"
      ],
      "metadata": {
        "id": "lg953thZlhFu"
      },
      "execution_count": null,
      "outputs": []
    },
    {
      "cell_type": "code",
      "source": [
        "# 데이터프레임의 첫 5줄 출력\n"
      ],
      "metadata": {
        "id": "IsdXyC5g_b0k"
      },
      "execution_count": null,
      "outputs": []
    },
    {
      "cell_type": "code",
      "source": [
        "# Step 3: 열의 결측값 확인\n"
      ],
      "metadata": {
        "id": "KNbC_LBN_bwL"
      },
      "execution_count": null,
      "outputs": []
    },
    {
      "cell_type": "code",
      "source": [
        "# 모든 결측값을 0으로 처리\n"
      ],
      "metadata": {
        "id": "zhkrzeue_buH"
      },
      "execution_count": null,
      "outputs": []
    },
    {
      "cell_type": "code",
      "source": [
        "# 다시 결측값을 확인\n"
      ],
      "metadata": {
        "id": "Px9LEUV6_br9"
      },
      "execution_count": null,
      "outputs": []
    },
    {
      "cell_type": "code",
      "source": [
        "# Step 4: 열 자료형 확인\n",
        "# 모든 자료형의 개수 확인\n"
      ],
      "metadata": {
        "id": "oKFTm0O7_bpx"
      },
      "execution_count": null,
      "outputs": []
    },
    {
      "cell_type": "code",
      "source": [
        "# Step 5: 날짜 자료형으로 변경\n",
        "try:\n",
        "  gstore['Last Updated'] = \n",
        "except Exception as e:\n",
        "  print(e)"
      ],
      "metadata": {
        "id": "1qcuOCDj_bns"
      },
      "execution_count": null,
      "outputs": []
    },
    {
      "cell_type": "code",
      "source": [
        "# coerce 매개변수 이용 강제로 변경\n",
        "# 발생한 에러를 N/A로 변경\n",
        "gstore['Last Updated'] = "
      ],
      "metadata": {
        "id": "QkNlTpHI_bln"
      },
      "execution_count": null,
      "outputs": []
    },
    {
      "cell_type": "code",
      "source": [
        "# Installs column 확인\n"
      ],
      "metadata": {
        "id": "HyN4Q7WQaM2Y"
      },
      "execution_count": null,
      "outputs": []
    },
    {
      "cell_type": "code",
      "source": [
        "# Step 5: 숫자 자료형으로 변경\n",
        "gstore['Installs'].str"
      ],
      "metadata": {
        "id": "KPKJWv4__bjd"
      },
      "execution_count": null,
      "outputs": []
    },
    {
      "cell_type": "code",
      "source": [
        "# 숫자들 사이의 + 기호를 빈 문자열로 변환\n",
        "gstore['Installs'] = \n",
        "gstore['Installs']"
      ],
      "metadata": {
        "id": "YqLXDI0W_bhT"
      },
      "execution_count": null,
      "outputs": []
    },
    {
      "cell_type": "code",
      "source": [
        "# 숫자들 사이의 쉼표를 기호를 빈 문자열로 변환\n",
        "gstore['Installs'] = \n",
        "gstore['Installs']"
      ],
      "metadata": {
        "id": "y5gkQk8O_bfo"
      },
      "execution_count": null,
      "outputs": []
    },
    {
      "cell_type": "code",
      "source": [
        "# 각 column 값의 발생 횟수 계산\n",
        "gstore['Installs'].value_counts()"
      ],
      "metadata": {
        "id": "4HKskVS6d0UW"
      },
      "execution_count": null,
      "outputs": []
    },
    {
      "cell_type": "code",
      "source": [
        "# 무료라는 의미의 Free 로 작성된 것을 0 으로 변경\n",
        "gstore['Installs'] = \n",
        "gstore['Installs']"
      ],
      "metadata": {
        "id": "jPOoBoL0_bdk"
      },
      "execution_count": null,
      "outputs": []
    },
    {
      "cell_type": "code",
      "source": [
        "# 변환 후 자료형 변경\n",
        "gstore['Installs'] = \n",
        "gstore['Installs']"
      ],
      "metadata": {
        "id": "NAwtk2np_bbQ"
      },
      "execution_count": null,
      "outputs": []
    },
    {
      "cell_type": "markdown",
      "source": [
        "### 3. 다양한 값의 정규화와 변환\n",
        "\n",
        "#### 예제: 내부 값 크기 변환\n",
        "\n",
        "https://scikit-learn.org/stable/modules/classes.html#module-sklearn.preprocessing"
      ],
      "metadata": {
        "id": "LoKNp1K8jmsa"
      }
    },
    {
      "cell_type": "code",
      "source": [
        "import numpy as np\n",
        "import pandas as pd\n",
        "from sklearn import preprocessing"
      ],
      "metadata": {
        "id": "BTpDO11NhC2i"
      },
      "execution_count": null,
      "outputs": []
    },
    {
      "cell_type": "code",
      "source": [
        "# Step 1: 이진화\n",
        "input_data = np.arange(1, 10).reshape(3, 3)\n",
        "input_data"
      ],
      "metadata": {
        "id": "iUwyr3UkBMGb"
      },
      "execution_count": null,
      "outputs": []
    },
    {
      "cell_type": "code",
      "source": [
        "# 전처리 모듈 중 바이너리로 변환하는 클래스 확인\n",
        "type(preprocessing.Binarizer) "
      ],
      "metadata": {
        "id": "kU4W2oolBMEO"
      },
      "execution_count": null,
      "outputs": []
    },
    {
      "cell_type": "code",
      "source": [
        "# threshold 2.1 에 대해 binarization 수행\n",
        "data_bin = \n",
        "data_bin"
      ],
      "metadata": {
        "id": "09cfT1WPBMCR"
      },
      "execution_count": null,
      "outputs": []
    },
    {
      "cell_type": "code",
      "source": [
        "# threshold 5.1 에 대해 binarization 수행\n",
        "data_bin = \n",
        "data_bin"
      ],
      "metadata": {
        "id": "wOtYlxztk9jt"
      },
      "execution_count": null,
      "outputs": []
    },
    {
      "cell_type": "code",
      "source": [
        "# Step 2: 스케일링 처리\n",
        "# 앞에서 정의한 배열의 평균\n"
      ],
      "metadata": {
        "id": "S-ttYZ8SmZVw"
      },
      "execution_count": null,
      "outputs": []
    },
    {
      "cell_type": "code",
      "source": [
        "# 앞에서 정의한 열에 대한 평균\n"
      ],
      "metadata": {
        "id": "8zpj3R8_mZTt"
      },
      "execution_count": null,
      "outputs": []
    },
    {
      "cell_type": "code",
      "source": [
        "# 앞에서 정의한 열에 대한 표준편차\n"
      ],
      "metadata": {
        "id": "lkkInEtvmZRf"
      },
      "execution_count": null,
      "outputs": []
    },
    {
      "cell_type": "code",
      "source": [
        "# 전처리 수행할 scale 함수 확인\n",
        "type(preprocessing.scale)"
      ],
      "metadata": {
        "id": "7WnBNzjzmZPU"
      },
      "execution_count": null,
      "outputs": []
    },
    {
      "cell_type": "code",
      "source": [
        "# 데이터를 스케일링\n",
        "data = \n",
        "data"
      ],
      "metadata": {
        "id": "E41E7FF8mZNJ"
      },
      "execution_count": null,
      "outputs": []
    },
    {
      "cell_type": "code",
      "source": [
        "# axis=0 에 대해 평균 계산\n"
      ],
      "metadata": {
        "id": "fRUv6P8FmZLF"
      },
      "execution_count": null,
      "outputs": []
    },
    {
      "cell_type": "code",
      "source": [
        "# axis=0 에 대해 표준편차 계산산\n"
      ],
      "metadata": {
        "id": "MtZk8D-MmZJJ"
      },
      "execution_count": null,
      "outputs": []
    },
    {
      "cell_type": "code",
      "source": [
        "# Step 3: 최솟값과 최댓값 조정\n",
        "# x_i^' = (x_i - min(x)) / (max(x) - min(x))"
      ],
      "metadata": {
        "id": "GHOLld-LmZHL"
      },
      "execution_count": null,
      "outputs": []
    },
    {
      "cell_type": "code",
      "source": [
        "# 주어진 범위 (0, 1)로 스케일링\n",
        "data_minmax = \n",
        "data_minmax"
      ],
      "metadata": {
        "id": "fM8NnJVsmZE_"
      },
      "execution_count": null,
      "outputs": []
    },
    {
      "cell_type": "code",
      "source": [
        "# 주어진 범위 (0, 1)로 스케일링\n",
        "data_minmax = \n",
        "data_minmax"
      ],
      "metadata": {
        "id": "VMkF9KxEndYH"
      },
      "execution_count": null,
      "outputs": []
    },
    {
      "cell_type": "code",
      "source": [
        "# Step 4: 표준화처리"
      ],
      "metadata": {
        "id": "ZXJFc1GMnqN2"
      },
      "execution_count": null,
      "outputs": []
    },
    {
      "cell_type": "code",
      "source": [
        "# 정규화 (z = x - u / s)\n",
        "data_standard_ = \n",
        "data_standard_"
      ],
      "metadata": {
        "id": "Z1OoF4s9nq9e"
      },
      "execution_count": null,
      "outputs": []
    },
    {
      "cell_type": "code",
      "source": [
        "# 정규화된 데이터의 평균 계산\n"
      ],
      "metadata": {
        "id": "ZH6n-R6ynq7X"
      },
      "execution_count": null,
      "outputs": []
    },
    {
      "cell_type": "code",
      "source": [
        "# 정규화된 데이터의 표준편차 계산\n"
      ],
      "metadata": {
        "id": "3V10I_monq5Z"
      },
      "execution_count": null,
      "outputs": []
    },
    {
      "cell_type": "code",
      "source": [
        "# Step 4: 정규화 처리 \n",
        "# 주어진 norm  (L1)으로 정규화\n",
        "data_normal_l1 = \n",
        "data_normal_l1"
      ],
      "metadata": {
        "id": "7uIupnGYnq3W"
      },
      "execution_count": null,
      "outputs": []
    },
    {
      "cell_type": "code",
      "source": [
        "# 주어진 norm  (L2)으로 정규화\n",
        "data_normal_l2 = \n",
        "data_normal_l2"
      ],
      "metadata": {
        "id": "2b1sXiK8nq1R"
      },
      "execution_count": null,
      "outputs": []
    }
  ]
}