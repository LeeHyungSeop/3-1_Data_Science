{
  "cells": [
    {
      "cell_type": "markdown",
      "metadata": {
        "id": "Ad3KH2GnL1UA"
      },
      "source": [
        "# 데이터사이언스 (0010085001)\n",
        "\n",
        "## Exercise 3: Libraries for Data Science (NumPy)\n",
        "\n",
        "In this excercise, we will cover NumPy library"
      ]
    },
    {
      "cell_type": "markdown",
      "metadata": {
        "id": "-IKr_8V1NCZs"
      },
      "source": [
        "### Array creation routines\n",
        "* Ones and zeros"
      ]
    },
    {
      "cell_type": "code",
      "execution_count": 1,
      "metadata": {
        "id": "DQfhCT-WrSuT"
      },
      "outputs": [],
      "source": [
        "import numpy as np"
      ]
    },
    {
      "cell_type": "code",
      "execution_count": 2,
      "metadata": {
        "colab": {
          "base_uri": "https://localhost:8080/"
        },
        "id": "8IdcWak2Wgl6",
        "outputId": "ba025fe4-90ee-4b9a-a5ed-daff1cb222de"
      },
      "outputs": [
        {
          "name": "stdout",
          "output_type": "stream",
          "text": [
            "[[0 0]\n",
            " [0 0]]\n"
          ]
        }
      ],
      "source": [
        "# Create an 2-by-2 array of all zeros \n",
        "a = np.zeros((2,2), dtype=np.int8)\n",
        "print(a)"
      ]
    },
    {
      "cell_type": "code",
      "execution_count": 3,
      "metadata": {
        "colab": {
          "base_uri": "https://localhost:8080/"
        },
        "id": "y5lXMTfzWgoa",
        "outputId": "a63e8dcc-1891-4b3e-c158-e1f9d54ba19a"
      },
      "outputs": [
        {
          "name": "stdout",
          "output_type": "stream",
          "text": [
            "[[1. 1.]\n",
            " [1. 1.]]\n"
          ]
        }
      ],
      "source": [
        "# Create an 2-by-2 array of all ones \n",
        "a = np.ones((2,2))\n",
        "print(a)"
      ]
    },
    {
      "cell_type": "code",
      "execution_count": 4,
      "metadata": {
        "colab": {
          "base_uri": "https://localhost:8080/"
        },
        "id": "ntxFubSXWgqq",
        "outputId": "88b1558b-4346-41db-c482-73f1896b3e85"
      },
      "outputs": [
        {
          "name": "stdout",
          "output_type": "stream",
          "text": [
            "[[0.67417306 0.85453843]\n",
            " [0.93705903 0.73709647]]\n",
            "1.21.5\n"
          ]
        }
      ],
      "source": [
        "# Create an 2-by-2 array with random numbers\n",
        "a = np.random.random((2,2))\n",
        "a = np.random.rand(2, 2)\n",
        "print(a)\n",
        "\n",
        "print(np.__version__)"
      ]
    },
    {
      "cell_type": "code",
      "execution_count": 5,
      "metadata": {
        "colab": {
          "base_uri": "https://localhost:8080/"
        },
        "id": "mwUx4h07WgtO",
        "outputId": "19f0fb2b-6a29-4c53-bed4-9ef9ebc6df8e"
      },
      "outputs": [
        {
          "name": "stdout",
          "output_type": "stream",
          "text": [
            "[1 2 3 4 5 6]\n"
          ]
        }
      ],
      "source": [
        "# Create an 1-by-6 array with elements 1 to 6\n",
        "a = np.array([1, 2, 3, 4, 5, 6])\n",
        "a = np.arange(1, 7)\n",
        "print(a)"
      ]
    },
    {
      "cell_type": "code",
      "execution_count": 6,
      "metadata": {
        "colab": {
          "base_uri": "https://localhost:8080/"
        },
        "id": "FnDIZ2taWgvM",
        "outputId": "74ad8a62-3e43-4a05-eb58-e3938779bdee"
      },
      "outputs": [
        {
          "name": "stdout",
          "output_type": "stream",
          "text": [
            "[[1 2 3]\n",
            " [4 5 6]]\n"
          ]
        }
      ],
      "source": [
        "# Create a two rows array with elements 1 to 6\n",
        "b = np.array([[1,2,3],[4,5,6]])\n",
        "b = np.arange(1, 7).reshape((2, 3))\n",
        "print(b)"
      ]
    },
    {
      "cell_type": "code",
      "execution_count": 7,
      "metadata": {
        "colab": {
          "base_uri": "https://localhost:8080/"
        },
        "id": "ekvLsQYRWgxq",
        "outputId": "d0b2249f-5ce4-4666-d12e-1204c437b527"
      },
      "outputs": [
        {
          "name": "stdout",
          "output_type": "stream",
          "text": [
            "(2, 3)\n"
          ]
        }
      ],
      "source": [
        "# Print shape of the array\n",
        "print(b.shape)"
      ]
    },
    {
      "cell_type": "code",
      "execution_count": 8,
      "metadata": {
        "colab": {
          "base_uri": "https://localhost:8080/"
        },
        "id": "jiRIoGTO6G_A",
        "outputId": "9fbf1591-e678-483c-9224-3c831431c6cf"
      },
      "outputs": [
        {
          "name": "stdout",
          "output_type": "stream",
          "text": [
            "[[0 0 0]\n",
            " [0 0 0]]\n"
          ]
        }
      ],
      "source": [
        "#  Create an array of zeros with the same shape and type as b\n",
        "c = np.zeros_like(b)\n",
        "print(c)"
      ]
    },
    {
      "cell_type": "code",
      "execution_count": 9,
      "metadata": {
        "colab": {
          "base_uri": "https://localhost:8080/"
        },
        "id": "7V6_RKNw5fz6",
        "outputId": "153016cc-6154-4394-d3f2-196ab338915a"
      },
      "outputs": [
        {
          "name": "stdout",
          "output_type": "stream",
          "text": [
            "[[1 1 1]\n",
            " [1 1 1]]\n"
          ]
        }
      ],
      "source": [
        "# Create an array of ones with the same shape and type as b\n",
        "d = np.ones_like(b)\n",
        "print(d)"
      ]
    },
    {
      "cell_type": "code",
      "execution_count": 10,
      "metadata": {
        "colab": {
          "base_uri": "https://localhost:8080/"
        },
        "id": "uFuNHfvv6jni",
        "outputId": "15863239-261b-44e8-c076-914826bb8aac"
      },
      "outputs": [
        {
          "name": "stdout",
          "output_type": "stream",
          "text": [
            "[[6 6 6 6 6]\n",
            " [6 6 6 6 6]]\n",
            "[[6 6 6 6 6]\n",
            " [6 6 6 6 6]]\n"
          ]
        }
      ],
      "source": [
        "# Create a new array of 2*5 uints, filled with 6.\n",
        "# Use np.full() and np.ones()\n",
        "a = np.full((2, 5), 6)\n",
        "print(a)\n",
        "\n",
        "b = np.ones([2, 5], dtype=np.int64) * 6\n",
        "print(b)"
      ]
    },
    {
      "cell_type": "markdown",
      "metadata": {
        "id": "dXoE3QG78BI4"
      },
      "source": [
        "### Array from existing data"
      ]
    },
    {
      "cell_type": "code",
      "execution_count": 11,
      "metadata": {
        "colab": {
          "base_uri": "https://localhost:8080/"
        },
        "id": "gKpVs2ZL8GYY",
        "outputId": "31a690fe-2d7b-4ba7-ffdf-45adc26ad218"
      },
      "outputs": [
        {
          "name": "stdout",
          "output_type": "stream",
          "text": [
            "[1 2 3]\n"
          ]
        }
      ],
      "source": [
        "# Create an array of [1, 2, 3]\n",
        "a = np.array([1, 2, 3])\n",
        "a = np.arange(1, 4)\n",
        "print(a)"
      ]
    },
    {
      "cell_type": "code",
      "execution_count": 12,
      "metadata": {
        "colab": {
          "base_uri": "https://localhost:8080/"
        },
        "id": "EeTozKis8GWL",
        "outputId": "f6af1417-e14b-46f7-9003-11691913b775"
      },
      "outputs": [
        {
          "name": "stdout",
          "output_type": "stream",
          "text": [
            "[1 2]\n"
          ]
        }
      ],
      "source": [
        "# Let x = [1, 2]. Convert it into an array (asarray)\n",
        "x = [1, 2]\n",
        "x = np.asarray(x)\n",
        "print(x)"
      ]
    },
    {
      "cell_type": "code",
      "execution_count": 13,
      "metadata": {
        "colab": {
          "base_uri": "https://localhost:8080/"
        },
        "id": "Ez8gf0QM8GTz",
        "outputId": "7b9784b2-8b56-4955-d171-3d60184b966a"
      },
      "outputs": [
        {
          "name": "stdout",
          "output_type": "stream",
          "text": [
            "[[1 2]\n",
            " [3 4]]\n"
          ]
        }
      ],
      "source": [
        "# Let x = np.array([[1, 2], [3, 4]]). Convert it into a matrix (asmatrix)\n",
        "x = np.array([[1, 2], [3, 4]])\n",
        "x = np.asmatrix(x)\n",
        "print(x)"
      ]
    },
    {
      "cell_type": "code",
      "execution_count": 14,
      "metadata": {
        "colab": {
          "base_uri": "https://localhost:8080/"
        },
        "id": "ippjxPDp8GRv",
        "outputId": "a7e5043b-7883-49db-dd09-c359173e24cb"
      },
      "outputs": [
        {
          "name": "stdout",
          "output_type": "stream",
          "text": [
            "[1. 2.]\n",
            "<class 'numpy.float64'>\n",
            "[1. 2.]\n",
            "<class 'numpy.float64'>\n"
          ]
        }
      ],
      "source": [
        "# Let x = [1, 2]. Convert it into an array of float (asfarray)\n",
        "x = [1., 2.]\n",
        "x = np.asfarray(x)\n",
        "print(x)\n",
        "print(type(x[0]))\n",
        "\n",
        "y = np.asarray(x, dtype=float)\n",
        "print(y)\n",
        "print(type(y[0]))"
      ]
    },
    {
      "cell_type": "code",
      "execution_count": 15,
      "metadata": {
        "colab": {
          "base_uri": "https://localhost:8080/"
        },
        "id": "TWTGul1V8o61",
        "outputId": "42216a27-b56c-4721-e603-7dce2f017fe8"
      },
      "outputs": [
        {
          "name": "stdout",
          "output_type": "stream",
          "text": [
            "30\n"
          ]
        }
      ],
      "source": [
        "# Let x = np.array([30]). Convert it into scalar of its single element, i.e. 30\n",
        "x = np.array([30])\n",
        "# x = np.asscalar(x)\n",
        "x = x.item()\n",
        "print(x)"
      ]
    },
    {
      "cell_type": "code",
      "execution_count": 16,
      "metadata": {
        "colab": {
          "base_uri": "https://localhost:8080/"
        },
        "id": "rXorbvLo8o4a",
        "outputId": "b54a67a6-66e8-4653-e9a7-81edcf7fbc3d"
      },
      "outputs": [
        {
          "name": "stdout",
          "output_type": "stream",
          "text": [
            "140559516314288 [1 2 3]\n",
            "140559790437264 [1 2 3]\n"
          ]
        }
      ],
      "source": [
        "# Let x = np.array([1, 2, 3]). Create a array copy of x, which has a different id from x\n",
        "x = np.array([1, 2, 3])\n",
        "y = np.copy(x)\n",
        "print(id(x), x)\n",
        "print(id(y), y)"
      ]
    },
    {
      "cell_type": "markdown",
      "metadata": {
        "id": "ub4HIEsyWzdL"
      },
      "source": [
        "### Array indexing\n",
        "Since arrays may be multidimensional, you must specify a slice for each dimension of the array"
      ]
    },
    {
      "cell_type": "code",
      "execution_count": 17,
      "metadata": {
        "colab": {
          "base_uri": "https://localhost:8080/"
        },
        "id": "oQuR0SV8Wg4Z",
        "outputId": "6725bd20-84bf-4f5d-b200-719be43a13c4"
      },
      "outputs": [
        {
          "name": "stdout",
          "output_type": "stream",
          "text": [
            "[[ 1  2  3  4]\n",
            " [ 5  6  7  8]\n",
            " [ 9 10 11 12]]\n"
          ]
        }
      ],
      "source": [
        "# Create an 3-by-4 array with elements 1 to 12\n",
        "a = np.arange(1,13).reshape(3,4)\n",
        "print(a)"
      ]
    },
    {
      "cell_type": "code",
      "execution_count": 18,
      "metadata": {
        "colab": {
          "base_uri": "https://localhost:8080/"
        },
        "id": "U0gy5ngaW1m3",
        "outputId": "07deff81-8554-413f-b472-1c645e7f74e6"
      },
      "outputs": [
        {
          "name": "stdout",
          "output_type": "stream",
          "text": [
            "[[2 3]\n",
            " [6 7]]\n"
          ]
        }
      ],
      "source": [
        "# Use slicing to pull out the subarray consisting of the first 2 rows and columns 1 and 2\n",
        "b = a[:2, 1:3]\n",
        "print(b)"
      ]
    },
    {
      "cell_type": "code",
      "execution_count": 19,
      "metadata": {
        "colab": {
          "base_uri": "https://localhost:8080/"
        },
        "id": "l8XnWNUaW1o3",
        "outputId": "38a53d07-c236-458b-c726-2a830644a4da"
      },
      "outputs": [
        {
          "name": "stdout",
          "output_type": "stream",
          "text": [
            "[[0 1]\n",
            " [1 1]\n",
            " [2 2]]\n",
            "[1 2 4]\n",
            "[[0 1]\n",
            " [1 1]]\n"
          ]
        }
      ],
      "source": [
        "# From an array, print all rows which sum up to less or equal two\n",
        "x = np.array([[0, 1], [1, 1], [2, 2]])\n",
        "print(x)\n",
        "\n",
        "rowsum = x.sum(-1) # axis=1\n",
        "print(rowsum)\n",
        "print(x[rowsum <= 2, :])"
      ]
    },
    {
      "cell_type": "markdown",
      "metadata": {
        "id": "JrHJvEI2W4Ww"
      },
      "source": [
        "### Array math\n",
        "Basic mathematical functions operate elementwise on arrays, and are available both as operator overloads and as functions in the numpy module"
      ]
    },
    {
      "cell_type": "code",
      "execution_count": 20,
      "metadata": {
        "colab": {
          "base_uri": "https://localhost:8080/"
        },
        "id": "2NWvNBGwW1vY",
        "outputId": "732cab68-ec2d-41ef-d0ea-9020809ebbb0"
      },
      "outputs": [
        {
          "name": "stdout",
          "output_type": "stream",
          "text": [
            "[[ 5. 12.]\n",
            " [21. 32.]]\n"
          ]
        }
      ],
      "source": [
        "#############################################################\n",
        "# General Usage\n",
        "#############################################################\n",
        "x = np.array([[1,2],\n",
        "              [3,4]], dtype=np.float64)\n",
        "y = np.array([[5,6],\n",
        "              [7,8]], dtype=np.float64)\n",
        "\n",
        "# Elementwise product of x and y\n",
        "z = x * y\n",
        "print(z)"
      ]
    },
    {
      "cell_type": "code",
      "execution_count": 21,
      "metadata": {
        "colab": {
          "base_uri": "https://localhost:8080/"
        },
        "id": "jlW3dtyxW6aS",
        "outputId": "497179dd-75f6-48a5-9159-8d9b6106e2e5"
      },
      "outputs": [
        {
          "name": "stdout",
          "output_type": "stream",
          "text": [
            "[[19. 22.]\n",
            " [43. 50.]]\n"
          ]
        }
      ],
      "source": [
        "# Matrix product of x and y\n",
        "z = np.dot(x, y)\n",
        "print(z)"
      ]
    },
    {
      "cell_type": "code",
      "execution_count": 22,
      "metadata": {
        "colab": {
          "base_uri": "https://localhost:8080/"
        },
        "id": "Y8CGj5OFW6cx",
        "outputId": "d3f72725-f271-4e0d-91c2-dae433913d8b"
      },
      "outputs": [
        {
          "name": "stdout",
          "output_type": "stream",
          "text": [
            "10.0\n"
          ]
        }
      ],
      "source": [
        "# Compute sum of all elements in x\n",
        "z = np.sum(x)\n",
        "print(z)"
      ]
    },
    {
      "cell_type": "code",
      "execution_count": 23,
      "metadata": {
        "colab": {
          "base_uri": "https://localhost:8080/"
        },
        "id": "5Any9SqRW6ey",
        "outputId": "e1ad55d8-a814-4f43-f66f-f7e5c11f840a"
      },
      "outputs": [
        {
          "name": "stdout",
          "output_type": "stream",
          "text": [
            "[4. 6.]\n"
          ]
        }
      ],
      "source": [
        "# Compute sum of each column in x;\n",
        "z = np.sum(x, axis=0)\n",
        "print(z)"
      ]
    },
    {
      "cell_type": "code",
      "execution_count": 24,
      "metadata": {
        "colab": {
          "base_uri": "https://localhost:8080/"
        },
        "id": "Uwazhe_BW6hU",
        "outputId": "7781452a-2dff-48e9-c93f-5aa958999ff7"
      },
      "outputs": [
        {
          "name": "stdout",
          "output_type": "stream",
          "text": [
            "[3. 7.]\n"
          ]
        }
      ],
      "source": [
        "# Compute sum of each row in x\n",
        "z = np.sum(x, axis=1)\n",
        "print(z)"
      ]
    },
    {
      "cell_type": "code",
      "execution_count": 25,
      "metadata": {
        "colab": {
          "base_uri": "https://localhost:8080/"
        },
        "id": "atkfksaNG2-z",
        "outputId": "f80712e2-b0c2-455d-e943-c3359a6fc799"
      },
      "outputs": [
        {
          "name": "stdout",
          "output_type": "stream",
          "text": [
            "[[ 1.  2.  3.]\n",
            " [11. 12. 13.]\n",
            " [21. 22. 23.]\n",
            " [31. 32. 33.]]\n"
          ]
        }
      ],
      "source": [
        "#############################################################\n",
        "# Broadcasting\n",
        "#############################################################\n",
        "\n",
        "# a 4 x 3\n",
        "# b 1 x 3\n",
        "a = np.array([[0.0, 0.0, 0.0,],\n",
        "              [10.0, 10.0, 10.0],\n",
        "              [20.0, 20.0, 20.0],\n",
        "              [30.0, 30.0, 30.0]])\n",
        "\n",
        "b = np.array([1.0, 2.0, 3.0])\n",
        "\n",
        "print(a+b)"
      ]
    },
    {
      "cell_type": "code",
      "execution_count": 26,
      "metadata": {
        "colab": {
          "base_uri": "https://localhost:8080/"
        },
        "id": "5pcHr8sHW6jz",
        "outputId": "b0e7b991-b5cf-4de6-fc50-7ac8e5c99062"
      },
      "outputs": [
        {
          "name": "stdout",
          "output_type": "stream",
          "text": [
            "[[ 2  2  4]\n",
            " [ 5  5  7]\n",
            " [ 8  8 10]\n",
            " [11 11 13]]\n"
          ]
        }
      ],
      "source": [
        "x = np.array([[1,2,3], \n",
        "              [4,5,6], \n",
        "              [7,8,9], \n",
        "              [10, 11, 12]])\n",
        "v = np.array([1, 0, 1])\n",
        "y = np.empty_like(x) \n",
        "\n",
        "# Add the vector v to each row of the matrix x with an explicit loop\n",
        "for i in range(4):\n",
        "    y[i, :] = x[i, :] + v\n",
        "print(y)"
      ]
    },
    {
      "cell_type": "code",
      "execution_count": 27,
      "metadata": {
        "colab": {
          "base_uri": "https://localhost:8080/"
        },
        "id": "10QBFaiEW6mU",
        "outputId": "456740db-fbe5-4259-f3d8-54cba5a3cbf9"
      },
      "outputs": [
        {
          "name": "stdout",
          "output_type": "stream",
          "text": [
            "[[1 0 1]\n",
            " [1 0 1]\n",
            " [1 0 1]\n",
            " [1 0 1]]\n",
            "[[ 2  2  4]\n",
            " [ 5  5  7]\n",
            " [ 8  8 10]\n",
            " [11 11 13]]\n"
          ]
        }
      ],
      "source": [
        "# Add the vector v to each row of the matrix x with stacking v multiple times (tile)\n",
        "vv = np.tile(v, (4, 1))\n",
        "print(vv)\n",
        "\n",
        "y = x + vv\n",
        "print(y)"
      ]
    },
    {
      "cell_type": "code",
      "execution_count": 28,
      "metadata": {
        "colab": {
          "base_uri": "https://localhost:8080/"
        },
        "id": "hrWYVDPbW6ok",
        "outputId": "2f2780f0-5e8b-4c25-e379-d66dba3fdb76"
      },
      "outputs": [
        {
          "name": "stdout",
          "output_type": "stream",
          "text": [
            "[[ 2  2  4]\n",
            " [ 5  5  7]\n",
            " [ 8  8 10]\n",
            " [11 11 13]]\n"
          ]
        }
      ],
      "source": [
        "# Add the vector v to each row of the matrix x with broadcasting\n",
        "y = x + v\n",
        "print(y)"
      ]
    },
    {
      "cell_type": "code",
      "execution_count": 29,
      "metadata": {
        "colab": {
          "base_uri": "https://localhost:8080/"
        },
        "id": "CTK4_gelW6qr",
        "outputId": "f12717ff-9133-4bff-aefc-3f28318b69ed"
      },
      "outputs": [
        {
          "name": "stdout",
          "output_type": "stream",
          "text": [
            "[[ 2  4  6]\n",
            " [ 8 10 12]\n",
            " [14 16 18]\n",
            " [20 22 24]]\n"
          ]
        }
      ],
      "source": [
        "# Multiply matrix x by a constant 2:\n",
        "z = x * 2\n",
        "print(z)"
      ]
    },
    {
      "cell_type": "markdown",
      "metadata": {
        "id": "s125G8RarfCW"
      },
      "source": [
        "### Numpy Array as Data\n",
        "\n",
        "* Data type: scalar, vector, matrix, tensor, and so on\n"
      ]
    },
    {
      "cell_type": "code",
      "execution_count": 30,
      "metadata": {
        "id": "WwCrIHqyrfUu"
      },
      "outputs": [
        {
          "name": "stdout",
          "output_type": "stream",
          "text": [
            "[5.1 3.5 1.4 0.2]\n"
          ]
        }
      ],
      "source": [
        "# Feature vector example 1\n",
        "\n",
        "from sklearn.datasets import load_iris\n",
        "\n",
        "iris = load_iris() \n",
        "print(iris.data[0, :])"
      ]
    },
    {
      "cell_type": "code",
      "execution_count": 31,
      "metadata": {
        "id": "e2su3_RtrfSi"
      },
      "outputs": [
        {
          "name": "stderr",
          "output_type": "stream",
          "text": [
            "/var/folders/9q/y4ybk96d7nb9d0spg4xhbx7m0000gn/T/ipykernel_16123/2248187432.py:18: UserWarning: Glyph 49707 (\\N{HANGUL SYLLABLE SUS}) missing from current font.\n",
            "  plt.tight_layout()\n",
            "/var/folders/9q/y4ybk96d7nb9d0spg4xhbx7m0000gn/T/ipykernel_16123/2248187432.py:18: UserWarning: Glyph 51088 (\\N{HANGUL SYLLABLE JA}) missing from current font.\n",
            "  plt.tight_layout()\n",
            "/var/folders/9q/y4ybk96d7nb9d0spg4xhbx7m0000gn/T/ipykernel_16123/2248187432.py:18: UserWarning: Glyph 44284 (\\N{HANGUL SYLLABLE GWA}) missing from current font.\n",
            "  plt.tight_layout()\n",
            "/var/folders/9q/y4ybk96d7nb9d0spg4xhbx7m0000gn/T/ipykernel_16123/2248187432.py:18: UserWarning: Glyph 51060 (\\N{HANGUL SYLLABLE I}) missing from current font.\n",
            "  plt.tight_layout()\n",
            "/var/folders/9q/y4ybk96d7nb9d0spg4xhbx7m0000gn/T/ipykernel_16123/2248187432.py:18: UserWarning: Glyph 48120 (\\N{HANGUL SYLLABLE MI}) missing from current font.\n",
            "  plt.tight_layout()\n",
            "/var/folders/9q/y4ybk96d7nb9d0spg4xhbx7m0000gn/T/ipykernel_16123/2248187432.py:18: UserWarning: Glyph 51648 (\\N{HANGUL SYLLABLE JI}) missing from current font.\n",
            "  plt.tight_layout()\n",
            "/Users/ihyeongseob/opt/anaconda3/lib/python3.9/site-packages/IPython/core/pylabtools.py:151: UserWarning: Glyph 49707 (\\N{HANGUL SYLLABLE SUS}) missing from current font.\n",
            "  fig.canvas.print_figure(bytes_io, **kw)\n",
            "/Users/ihyeongseob/opt/anaconda3/lib/python3.9/site-packages/IPython/core/pylabtools.py:151: UserWarning: Glyph 51088 (\\N{HANGUL SYLLABLE JA}) missing from current font.\n",
            "  fig.canvas.print_figure(bytes_io, **kw)\n",
            "/Users/ihyeongseob/opt/anaconda3/lib/python3.9/site-packages/IPython/core/pylabtools.py:151: UserWarning: Glyph 44284 (\\N{HANGUL SYLLABLE GWA}) missing from current font.\n",
            "  fig.canvas.print_figure(bytes_io, **kw)\n",
            "/Users/ihyeongseob/opt/anaconda3/lib/python3.9/site-packages/IPython/core/pylabtools.py:151: UserWarning: Glyph 51060 (\\N{HANGUL SYLLABLE I}) missing from current font.\n",
            "  fig.canvas.print_figure(bytes_io, **kw)\n",
            "/Users/ihyeongseob/opt/anaconda3/lib/python3.9/site-packages/IPython/core/pylabtools.py:151: UserWarning: Glyph 48120 (\\N{HANGUL SYLLABLE MI}) missing from current font.\n",
            "  fig.canvas.print_figure(bytes_io, **kw)\n",
            "/Users/ihyeongseob/opt/anaconda3/lib/python3.9/site-packages/IPython/core/pylabtools.py:151: UserWarning: Glyph 51648 (\\N{HANGUL SYLLABLE JI}) missing from current font.\n",
            "  fig.canvas.print_figure(bytes_io, **kw)\n"
          ]
        },
        {
          "data": {
            "image/png": "[encoded data removed]",
            "text/plain": [
              "<Figure size 800x200 with 8 Axes>"
            ]
          },
          "metadata": {},
          "output_type": "display_data"
        }
      ],
      "source": [
        "# Feature vector example 2\n",
        "import matplotlib.pyplot as plt\n",
        "\n",
        "from sklearn.datasets import load_digits \n",
        "digits = load_digits()  # 데이터 로드\n",
        "samples = [0, 10, 20, 30, 1, 11, 21, 31]  # 선택된 이미지 번호\n",
        "d = []\n",
        "for i in range(8):\n",
        "    d.append(digits.images[samples[i]])\n",
        "\n",
        "plt.figure(figsize=(8, 2))\n",
        "for i in range(8):\n",
        "    plt.subplot(1, 8, i + 1)\n",
        "    plt.imshow(d[i], interpolation='nearest', cmap=plt.cm.bone_r)\n",
        "    plt.grid(False); plt.xticks([]); plt.yticks([])\n",
        "    plt.title(\"image {}\".format(i + 1))\n",
        "plt.suptitle(\"숫자 0과 1 이미지\")\n",
        "plt.tight_layout()\n",
        "plt.show()"
      ]
    },
    {
      "cell_type": "code",
      "execution_count": 32,
      "metadata": {
        "id": "jEyiGrYqrfQN"
      },
      "outputs": [
        {
          "name": "stderr",
          "output_type": "stream",
          "text": [
            "/var/folders/9q/y4ybk96d7nb9d0spg4xhbx7m0000gn/T/ipykernel_16123/3678869720.py:13: UserWarning: Glyph 48289 (\\N{HANGUL SYLLABLE BEG}) missing from current font.\n",
            "  plt.tight_layout(w_pad=7)\n",
            "/var/folders/9q/y4ybk96d7nb9d0spg4xhbx7m0000gn/T/ipykernel_16123/3678869720.py:13: UserWarning: Glyph 53552 (\\N{HANGUL SYLLABLE TEO}) missing from current font.\n",
            "  plt.tight_layout(w_pad=7)\n",
            "/var/folders/9q/y4ybk96d7nb9d0spg4xhbx7m0000gn/T/ipykernel_16123/3678869720.py:13: UserWarning: Glyph 54868 (\\N{HANGUL SYLLABLE HWA}) missing from current font.\n",
            "  plt.tight_layout(w_pad=7)\n",
            "/var/folders/9q/y4ybk96d7nb9d0spg4xhbx7m0000gn/T/ipykernel_16123/3678869720.py:13: UserWarning: Glyph 46108 (\\N{HANGUL SYLLABLE DOEN}) missing from current font.\n",
            "  plt.tight_layout(w_pad=7)\n",
            "/var/folders/9q/y4ybk96d7nb9d0spg4xhbx7m0000gn/T/ipykernel_16123/3678869720.py:13: UserWarning: Glyph 51060 (\\N{HANGUL SYLLABLE I}) missing from current font.\n",
            "  plt.tight_layout(w_pad=7)\n",
            "/var/folders/9q/y4ybk96d7nb9d0spg4xhbx7m0000gn/T/ipykernel_16123/3678869720.py:13: UserWarning: Glyph 48120 (\\N{HANGUL SYLLABLE MI}) missing from current font.\n",
            "  plt.tight_layout(w_pad=7)\n",
            "/var/folders/9q/y4ybk96d7nb9d0spg4xhbx7m0000gn/T/ipykernel_16123/3678869720.py:13: UserWarning: Glyph 51648 (\\N{HANGUL SYLLABLE JI}) missing from current font.\n",
            "  plt.tight_layout(w_pad=7)\n",
            "/Users/ihyeongseob/opt/anaconda3/lib/python3.9/site-packages/IPython/core/pylabtools.py:151: UserWarning: Glyph 48289 (\\N{HANGUL SYLLABLE BEG}) missing from current font.\n",
            "  fig.canvas.print_figure(bytes_io, **kw)\n",
            "/Users/ihyeongseob/opt/anaconda3/lib/python3.9/site-packages/IPython/core/pylabtools.py:151: UserWarning: Glyph 53552 (\\N{HANGUL SYLLABLE TEO}) missing from current font.\n",
            "  fig.canvas.print_figure(bytes_io, **kw)\n",
            "/Users/ihyeongseob/opt/anaconda3/lib/python3.9/site-packages/IPython/core/pylabtools.py:151: UserWarning: Glyph 54868 (\\N{HANGUL SYLLABLE HWA}) missing from current font.\n",
            "  fig.canvas.print_figure(bytes_io, **kw)\n",
            "/Users/ihyeongseob/opt/anaconda3/lib/python3.9/site-packages/IPython/core/pylabtools.py:151: UserWarning: Glyph 46108 (\\N{HANGUL SYLLABLE DOEN}) missing from current font.\n",
            "  fig.canvas.print_figure(bytes_io, **kw)\n"
          ]
        },
        {
          "data": {
            "image/png": "[encoded data removed]",
            "text/plain": [
              "<Figure size 800x300 with 8 Axes>"
            ]
          },
          "metadata": {},
          "output_type": "display_data"
        }
      ],
      "source": [
        "v = []\n",
        "for i in range(8):\n",
        "    v.append(d[i].reshape(64, 1))  # 벡터화\n",
        "    \n",
        "plt.figure(figsize=(8, 3))\n",
        "for i in range(8):\n",
        "    plt.subplot(1, 8, i + 1)\n",
        "    plt.imshow(v[i], aspect=0.4,\n",
        "               interpolation='nearest', cmap=plt.cm.bone_r)\n",
        "    plt.grid(False); plt.xticks([]); plt.yticks([])\n",
        "    plt.title(\"벡터 {}\".format(i + 1))\n",
        "plt.suptitle(\"벡터화된 이미지\", y=1.05)\n",
        "plt.tight_layout(w_pad=7)\n",
        "plt.show()"
      ]
    },
    {
      "cell_type": "markdown",
      "metadata": {
        "id": "oYdoneFG4VBm"
      },
      "source": [
        "### Image processing with Python, NumPy"
      ]
    },
    {
      "cell_type": "code",
      "execution_count": 33,
      "metadata": {
        "colab": {
          "base_uri": "https://localhost:8080/"
        },
        "id": "WDdDHVhH4ZOX",
        "outputId": "692d5769-a669-4733-b19d-e5530395ee35"
      },
      "outputs": [
        {
          "name": "stdout",
          "output_type": "stream",
          "text": [
            "<class 'PIL.JpegImagePlugin.JpegImageFile'>\n",
            "(225, 400, 3)\n",
            "uint8\n",
            "(225, 400, 3)\n"
          ]
        }
      ],
      "source": [
        "from PIL import Image # Python Imaging Library\n",
        "import numpy as np\n",
        "import scipy.misc\n",
        "\n",
        "\n",
        "# How to read an image file as ndarray\n",
        "image_url = \"https://github.com/nkmk/python-snippets/blob/1dd9bd0b89a4465af229cbbfc2a1f8e3cb26d78c/notebook/data/src/lena.jpg\"\n",
        "\n",
        "# Download image and move it to the file (see left categories)\n",
        "im = Image.open('./lena.jpg')\n",
        "print(type(im))\n",
        "\n",
        "# Convert Image to numpy.ndarray\n",
        "im = np.array(im)\n",
        "\n",
        "print(im.shape)\n",
        "print(im.dtype)\n",
        "print(im.shape)"
      ]
    },
    {
      "cell_type": "code",
      "execution_count": 34,
      "metadata": {
        "colab": {
          "base_uri": "https://localhost:8080/"
        },
        "id": "GXILxu_I4ZL_",
        "outputId": "4fff132e-cafc-4d5f-92a6-08f68c5c7432"
      },
      "outputs": [
        {
          "name": "stdout",
          "output_type": "stream",
          "text": [
            "(225, 400)\n"
          ]
        }
      ],
      "source": [
        "# Convert image to grayscale\n",
        "# PIL.Image -> np.array\n",
        "im_gray = np.array(Image.open('./lena.jpg').convert('L'))\n",
        "print(im_gray.shape)\n",
        "\n",
        "pil_img = Image.fromarray(im_gray) # np.array -> PIL.Image\n",
        "pil_img.save('./lena_gray.jpg')"
      ]
    },
    {
      "cell_type": "code",
      "execution_count": 35,
      "metadata": {
        "colab": {
          "base_uri": "https://localhost:8080/"
        },
        "id": "MT40g6DS4ZHE",
        "outputId": "0886637d-fd8e-42bb-b417-825795e18d12"
      },
      "outputs": [
        {
          "name": "stdout",
          "output_type": "stream",
          "text": [
            "True\n",
            "109\n",
            "0\n"
          ]
        }
      ],
      "source": [
        "# Change the value of the element (pixel)\n",
        "print(im.flags.writeable)\n",
        "\n",
        "print(im[0, 0, 0])\n",
        "\n",
        "im[0, 0, 0] = 0\n",
        "\n",
        "print(im[0, 0, 0])"
      ]
    },
    {
      "cell_type": "code",
      "execution_count": 36,
      "metadata": {
        "id": "alg2W-IC4ZFE"
      },
      "outputs": [],
      "source": [
        "# Generation of single color image and concatenation\n",
        "image_url = \"https://github.com/nkmk/python-snippets/blob/1dd9bd0b89a4465af229cbbfc2a1f8e3cb26d78c/notebook/data/src/lena_square.png?raw=true\"\n",
        "\n",
        "im = Image.open('./lena.jpg')\n",
        "im = np.array(im)\n",
        "\n",
        "\n",
        "# Make green and blue channel values to zero\n",
        "im_R = im.copy()\n",
        "im_R[:, :, (1, 2)] = 0\n",
        "\n",
        "# Make red and blue channel values to zero\n",
        "im_G = im.copy()\n",
        "im_G[:, :, (0, 2)] = 0\n",
        "\n",
        "# Make red and green channel values to zero\n",
        "im_B = im.copy()\n",
        "im_B[:, :, (0, 1)] = 0\n",
        "\n",
        "# Concatenate each images along the axis 1\n",
        "im_RGB = np.concatenate((im_R, im_G, im_B), axis=1)\n",
        "# im_RGB = np.hstack((im_R, im_G, im_B))\n",
        "# im_RGB = np.c_['1', im_R, im_G, im_B]\n",
        "\n",
        "# Save image\n",
        "pil_img = Image.fromarray(im_RGB)\n",
        "pil_img.save('./lena_numpy_split_color.jpg')\n"
      ]
    },
    {
      "cell_type": "code",
      "execution_count": 37,
      "metadata": {
        "id": "WTwd5jIE4ZC8"
      },
      "outputs": [],
      "source": [
        "# Negative-positive inversion (invert pixel value)\n",
        "im = np.array(Image.open('./lena.jpg').resize((256, 256)))\n",
        "\n",
        "im_i = 255 - im\n",
        "\n",
        "Image.fromarray(im_i).save('./lena_numpy_inverse.jpg')"
      ]
    },
    {
      "cell_type": "code",
      "execution_count": 38,
      "metadata": {
        "id": "mKaWlZlJ4ZAu"
      },
      "outputs": [],
      "source": [
        "# Color reduction\n",
        "im = np.array(Image.open('./lena.jpg').resize((256, 256)))\n",
        "\n",
        "im_32 = im // 32 * 32\n",
        "im_128 = im // 128 * 128\n",
        "\n",
        "im_dec = np.concatenate((im, im_32, im_128), axis=1)\n",
        "\n",
        "Image.fromarray(im_dec).save('./lena_numpy_dec_color.jpg')"
      ]
    },
    {
      "cell_type": "code",
      "execution_count": 39,
      "metadata": {
        "colab": {
          "base_uri": "https://localhost:8080/"
        },
        "id": "ow5vl-jk4Y-j",
        "outputId": "fc451277-ee61-49b7-ebec-7c3d443a0b8e"
      },
      "outputs": [
        {
          "name": "stdout",
          "output_type": "stream",
          "text": [
            "(256, 256, 3)\n",
            "(128, 128, 3)\n"
          ]
        }
      ],
      "source": [
        "# Trimming with slice\n",
        "m = np.array(Image.open('./lena.jpg'))\n",
        "print(im.shape)\n",
        "\n",
        "im_trim1 = im[128:384, 128:384]\n",
        "print(im_trim1.shape)\n",
        "\n",
        "Image.fromarray(im_trim1).save('./lena_numpy_trim.jpg')"
      ]
    },
    {
      "cell_type": "code",
      "execution_count": null,
      "metadata": {
        "id": "skqr6Z4CdBH2"
      },
      "outputs": [],
      "source": []
    }
  ],
  "metadata": {
    "colab": {
      "provenance": []
    },
    "kernelspec": {
      "display_name": "Python 3",
      "name": "python3"
    },
    "language_info": {
      "codemirror_mode": {
        "name": "ipython",
        "version": 3
      },
      "file_extension": ".py",
      "mimetype": "text/x-python",
      "name": "python",
      "nbconvert_exporter": "python",
      "pygments_lexer": "ipython3",
      "version": "3.9.13"
    }
  },
  "nbformat": 4,
  "nbformat_minor": 0
}
