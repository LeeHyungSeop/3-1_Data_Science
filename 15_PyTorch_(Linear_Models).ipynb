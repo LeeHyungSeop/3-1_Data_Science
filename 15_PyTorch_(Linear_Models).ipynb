{
  "cells": [
    {
      "cell_type": "markdown",
      "source": [
        "# 데이터사이언스 (0010085001)\n",
        "\n",
        "## Exercise 15: PyTorch (Linear Models)\n",
        "\n",
        "* source from : https://github.com/L1aoXingyu/pytorch-beginner"
      ],
      "metadata": {
        "id": "kj4JGvVDuuz1"
      }
    },
    {
      "cell_type": "markdown",
      "source": [
        "### 1. Linear Regression"
      ],
      "metadata": {
        "id": "irMJ2c-qmIYS"
      }
    },
    {
      "cell_type": "code",
      "source": [
        "import matplotlib.pyplot as plt\n",
        "import numpy as np\n",
        "import torch\n",
        "from torch import nn\n",
        "from torch.autograd import Variable"
      ],
      "metadata": {
        "id": "aySLEhZZQ9Te"
      },
      "execution_count": null,
      "outputs": []
    },
    {
      "cell_type": "code",
      "source": [
        "# 데이터 생성\n",
        "x_train = np.array([[3.3], [4.4], [5.5], [6.71], [6.93], [4.168],\n",
        "                    [9.779], [6.182], [7.59], [2.167], [7.042],\n",
        "                    [10.791], [5.313], [7.997], [3.1]], dtype=np.float32)\n",
        "\n",
        "y_train = np.array([[1.7], [2.76], [2.09], [3.19], [1.694], [1.573],\n",
        "                    [3.366], [2.596], [2.53], [1.221], [2.827],\n",
        "                    [3.465], [1.65], [2.904], [1.3]], dtype=np.float32)\n",
        "\n",
        "# numpy.array -> torch.tensor\n",
        "x_train = torch.from_numpy(x_train)\n",
        "y_train = torch.from_numpy(y_train)"
      ],
      "metadata": {
        "id": "tEnBNC8WSgTb"
      },
      "execution_count": null,
      "outputs": []
    },
    {
      "cell_type": "code",
      "source": [
        "# Linear regression 모델 생성\n",
        "\n",
        "### torch.nn.Module\n",
        "# https://pytorch.org/docs/stable/generated/torch.nn.Module.html#module\n",
        "\n",
        "class linearRegression(nn.Module):\n",
        "    def __init__(self):\n",
        "        super(linearRegression, self).__init__()\n",
        "        self.linear = nn.Linear(1, 1)  # input and output is 1 dimension\n",
        "\n",
        "    def forward(self, x):\n",
        "        out = self.linear(x)\n",
        "        return out\n",
        "\n",
        "model = linearRegression()"
      ],
      "metadata": {
        "id": "Bk1Qyon5SgPb"
      },
      "execution_count": null,
      "outputs": []
    },
    {
      "cell_type": "code",
      "source": [
        "# Loss (cost) function 설정\n",
        "\n",
        "### torch.nn.MSELoss\n",
        "# https://pytorch.org/docs/stable/nn.html#loss-functions\n",
        "\n",
        "criterion = nn.MSELoss()"
      ],
      "metadata": {
        "id": "jDW4m9aBjOkU"
      },
      "execution_count": null,
      "outputs": []
    },
    {
      "cell_type": "code",
      "source": [
        "# Optimizer 설정\n",
        "\n",
        "### torch.optim.SGD (Stochastic gradient descent)\n",
        "# https://pytorch.org/docs/stable/optim.html\n",
        "\n",
        "optimizer = torch.optim.SGD(model.parameters(), lr=1e-4)"
      ],
      "metadata": {
        "id": "9oTR-bafjOiM"
      },
      "execution_count": null,
      "outputs": []
    },
    {
      "cell_type": "code",
      "source": [
        "# 모델 학습\n",
        "\n",
        "num_epochs = 1000\n",
        "\n",
        "for epoch in range(num_epochs):\n",
        "    inputs = x_train\n",
        "    target = y_train\n",
        "\n",
        "    # forward\n",
        "    out = model(inputs)\n",
        "    loss = criterion(out, target)\n",
        "\n",
        "    # backward\n",
        "    optimizer.zero_grad()\n",
        "    loss.backward()\n",
        "    optimizer.step()\n",
        "\n",
        "    if (epoch+1) % 20 == 0:\n",
        "        print(f'Epoch[{epoch+1}/{num_epochs}], loss: {loss.item():.6f}')\n",
        "\n",
        "### torch.nn.Module.eval()\n",
        "# https://pytorch.org/docs/stable/generated/torch.nn.Module.html#torch.nn.Module.eval\n",
        "model.eval()\n",
        "\n",
        "### torch.no_grad()\n",
        "# https://pytorch.org/docs/stable/generated/torch.no_grad.html#torch.no_grad\n",
        "with torch.no_grad():\n",
        "    predict = model(x_train)\n",
        "\n",
        "predict = predict.data.numpy()"
      ],
      "metadata": {
        "id": "tlhRZ3wgjOgC"
      },
      "execution_count": null,
      "outputs": []
    },
    {
      "cell_type": "code",
      "source": [
        "# 학습 결과 시각화\n",
        "\n",
        "fig = plt.figure(figsize=(10, 5))\n",
        "plt.plot(x_train.numpy(), y_train.numpy(), 'ro', label='Original data')\n",
        "plt.plot(x_train.numpy(), predict, label='Fitting Line')\n",
        "\n",
        "plt.legend() \n",
        "plt.show()"
      ],
      "metadata": {
        "id": "w9yTrkN4jOeG"
      },
      "execution_count": null,
      "outputs": []
    },
    {
      "cell_type": "code",
      "source": [
        "# 모델 저장 (즉, 학습으로 얻은 weights 를 저장)\n",
        "\n",
        "torch.save(model.state_dict(), './linear.pth')"
      ],
      "metadata": {
        "id": "m2UYTiyFjOb4"
      },
      "execution_count": null,
      "outputs": []
    },
    {
      "cell_type": "markdown",
      "source": [
        "### 2. Logistic Regression"
      ],
      "metadata": {
        "id": "AEwgWwNSmMZX"
      }
    },
    {
      "cell_type": "code",
      "source": [
        "import time\n",
        "\n",
        "import torch\n",
        "import torch.nn.functional as F\n",
        "from torch import nn\n",
        "from torch.utils.data import DataLoader\n",
        "from torchvision import datasets, transforms\n"
      ],
      "metadata": {
        "id": "mZW2X1a-jOZ0"
      },
      "execution_count": null,
      "outputs": []
    },
    {
      "cell_type": "code",
      "source": [
        "# 학습 파라미터 설정\n",
        "\n",
        "batch_size = 64\n",
        "learning_rate = 1e-3\n",
        "num_epochs = 10"
      ],
      "metadata": {
        "id": "u4NXQTrVnpn5"
      },
      "execution_count": null,
      "outputs": []
    },
    {
      "cell_type": "code",
      "source": [
        "# 데이터셋 설정\n",
        "\n",
        "### torchvision.datasets.FashionMNIST\n",
        "# https://pytorch.org/vision/stable/generated/torchvision.datasets.FashionMNIST.html#torchvision.datasets.FashionMNIST\n",
        "\n",
        "train_dataset = datasets.FashionMNIST(root='./data', \n",
        "                                      train=True, download=True,\n",
        "                                      transform=transforms.ToTensor())\n",
        "\n",
        "test_dataset = datasets.FashionMNIST(root='./data', train=False, \n",
        "                                     transform=transforms.ToTensor())"
      ],
      "metadata": {
        "id": "wyH64ehxnplu"
      },
      "execution_count": null,
      "outputs": []
    },
    {
      "cell_type": "code",
      "source": [
        "# 데이터 로더 설정\n",
        "\n",
        "train_loader = DataLoader(train_dataset, batch_size=batch_size, shuffle=True)\n",
        "test_loader = DataLoader(test_dataset, batch_size=batch_size, shuffle=False)"
      ],
      "metadata": {
        "id": "z4CxmNZknpjq"
      },
      "execution_count": null,
      "outputs": []
    },
    {
      "cell_type": "code",
      "source": [
        "# Logistic regression 모델 생성\n",
        "\n",
        "class Logistic_Regression(nn.Module):\n",
        "    def __init__(self, in_dim, n_class):\n",
        "        super(Logistic_Regression, self).__init__()\n",
        "        self.logistic = nn.Linear(in_dim, n_class)\n",
        "\n",
        "    def forward(self, x):\n",
        "        out = self.logistic(x)\n",
        "        return out\n",
        "\n",
        "model = Logistic_Regression(28 * 28, 10)\n",
        "\n",
        "use_gpu = torch.cuda.is_available()\n",
        "if use_gpu:\n",
        "    model = model.cuda()"
      ],
      "metadata": {
        "id": "2jqnhqfdnphg"
      },
      "execution_count": null,
      "outputs": []
    },
    {
      "cell_type": "code",
      "source": [
        "# Loss (cost) function 설정\n",
        "\n",
        "criterion = nn.CrossEntropyLoss()"
      ],
      "metadata": {
        "id": "ak-n8E6enpfU"
      },
      "execution_count": null,
      "outputs": []
    },
    {
      "cell_type": "code",
      "source": [
        "# Optimizer 설정\n",
        "\n",
        "optimizer = torch.optim.SGD(model.parameters(), lr=learning_rate)"
      ],
      "metadata": {
        "id": "PC_teO8Znpde"
      },
      "execution_count": null,
      "outputs": []
    },
    {
      "cell_type": "code",
      "source": [
        "# 모델 학습\n",
        "\n",
        "for epoch in range(num_epochs):\n",
        "    print('*' * 10)\n",
        "    print(f'epoch {epoch+1}')\n",
        "    \n",
        "    since = time.time()\n",
        "    running_loss = 0.0\n",
        "    running_acc = 0.0\n",
        "    \n",
        "    model.train()\n",
        "    for i, data in enumerate(train_loader, 1):\n",
        "        img, label = data\n",
        "        img = img.view(img.size(0), -1)  # 将图片展开成 28x28\n",
        "    \n",
        "        if use_gpu:\n",
        "            img = img.cuda()\n",
        "            label = label.cuda()\n",
        "    \n",
        "        # forward\n",
        "        out = model(img)\n",
        "    \n",
        "        # calculate error\n",
        "        loss = criterion(out, label)\n",
        "    \n",
        "        running_loss += loss.item()\n",
        "\n",
        "\n",
        "        _, pred = torch.max(out, 1)\n",
        "        running_acc += (pred==label).float().mean()\n",
        "    \n",
        "        # backprop\n",
        "        optimizer.zero_grad()\n",
        "        loss.backward()\n",
        "        optimizer.step()\n",
        "\n",
        "        if i % 300 == 0:\n",
        "            print(f'[{epoch+1}/{num_epochs}] Loss: {running_loss/i:.6f}, Acc: {running_acc/i:.6f}')\n",
        "    \n",
        "    print(f'Finish {epoch+1} epoch, Loss: {running_loss/i:.6f}, Acc: {running_acc/i:.6f}')\n",
        "\n",
        "    # 모델 평가 (test)    \n",
        "    model.eval()\n",
        "\n",
        "    eval_loss = 0.\n",
        "    eval_acc = 0.\n",
        "\n",
        "    for data in test_loader:\n",
        "        img, label = data\n",
        "        img = img.view(img.size(0), -1)\n",
        "\n",
        "        if use_gpu:\n",
        "            img = img.cuda()\n",
        "            label = label.cuda()\n",
        "        \n",
        "        with torch.no_grad():\n",
        "            out = model(img)\n",
        "            loss = criterion(out, label)\n",
        "        \n",
        "        eval_loss += loss.item()\n",
        "        _, pred = torch.max(out, 1)\n",
        "        eval_acc += (pred == label).float().mean()\n",
        "\n",
        "    print(f'Test Loss: {eval_loss/len(test_loader):.6f}, Acc: {eval_acc/len(test_loader):.6f}')\n",
        "    print(f'Time:{(time.time()-since):.1f} s')"
      ],
      "metadata": {
        "id": "NmhNSMbMnpbS"
      },
      "execution_count": null,
      "outputs": []
    },
    {
      "cell_type": "code",
      "source": [
        "# 모델 저장 (즉, 학습으로 얻은 weights 를 저장)\n",
        "\n",
        "torch.save(model.state_dict(), './logstic.pth')"
      ],
      "metadata": {
        "id": "27HrxjibnpZK"
      },
      "execution_count": null,
      "outputs": []
    }
  ],
  "metadata": {
    "kernelspec": {
      "display_name": "Python 3",
      "language": "python",
      "name": "python3"
    },
    "language_info": {
      "codemirror_mode": {
        "name": "ipython",
        "version": 3
      },
      "file_extension": ".py",
      "mimetype": "text/x-python",
      "name": "python",
      "nbconvert_exporter": "python",
      "pygments_lexer": "ipython3",
      "version": "3.10.10"
    },
    "colab": {
      "provenance": []
    }
  },
  "nbformat": 4,
  "nbformat_minor": 0
}