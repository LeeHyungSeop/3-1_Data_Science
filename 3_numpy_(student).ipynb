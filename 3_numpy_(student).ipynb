{
  "cells": [
    {
      "cell_type": "markdown",
      "metadata": {
        "id": "Ad3KH2GnL1UA"
      },
      "source": [
        "# 데이터사이언스 (0010085001)\n",
        "\n",
        "## Exercise 3: Libraries for Data Science (NumPy)\n",
        "\n",
        "In this excercise, we will cover NumPy library"
      ]
    },
    {
      "cell_type": "markdown",
      "metadata": {
        "id": "-IKr_8V1NCZs"
      },
      "source": [
        "### Array creation routines\n",
        "* Ones and zeros"
      ]
    },
    {
      "cell_type": "code",
      "execution_count": 2,
      "metadata": {
        "id": "DQfhCT-WrSuT"
      },
      "outputs": [],
      "source": [
        "import numpy as np"
      ]
    },
    {
      "cell_type": "code",
      "execution_count": 3,
      "metadata": {
        "id": "8IdcWak2Wgl6"
      },
      "outputs": [
        {
          "name": "stdout",
          "output_type": "stream",
          "text": [
            "[[0 0]\n",
            " [0 0]]\n"
          ]
        }
      ],
      "source": [
        "# Create an 2-by-2 array of all zeros \n",
        "a = np.zeros((2, 2), dtype=np.int8)\n",
        "print(a)"
      ]
    },
    {
      "cell_type": "code",
      "execution_count": 4,
      "metadata": {
        "id": "y5lXMTfzWgoa"
      },
      "outputs": [
        {
          "name": "stdout",
          "output_type": "stream",
          "text": [
            "[[1. 1.]\n",
            " [1. 1.]]\n"
          ]
        }
      ],
      "source": [
        "# Create an 2-by-2 array of all ones \n",
        "a = np.ones((2, 2))\n",
        "print(a)"
      ]
    },
    {
      "cell_type": "code",
      "execution_count": 5,
      "metadata": {
        "id": "ntxFubSXWgqq"
      },
      "outputs": [],
      "source": [
        "# Create an 2-by-2 array with random numbers\n",
        "a = np.random.random((2, 2))"
      ]
    },
    {
      "cell_type": "code",
      "execution_count": 6,
      "metadata": {
        "id": "mwUx4h07WgtO"
      },
      "outputs": [
        {
          "name": "stdout",
          "output_type": "stream",
          "text": [
            "[1 2 3 4 5 6]\n"
          ]
        }
      ],
      "source": [
        "# Create an 1-by-6 array with elements 1 to 6\n",
        "a = np.arange(1, 7)\n",
        "print(a)"
      ]
    },
    {
      "cell_type": "code",
      "execution_count": 7,
      "metadata": {
        "id": "FnDIZ2taWgvM"
      },
      "outputs": [
        {
          "name": "stdout",
          "output_type": "stream",
          "text": [
            "[[1 2 3]\n",
            " [4 5 6]]\n"
          ]
        }
      ],
      "source": [
        "# Create a two rows array with elements 1 to 6\n",
        "b = np.arange(1, 7).reshape(2,3)\n",
        "print(b)"
      ]
    },
    {
      "cell_type": "code",
      "execution_count": 8,
      "metadata": {
        "id": "ekvLsQYRWgxq"
      },
      "outputs": [
        {
          "name": "stdout",
          "output_type": "stream",
          "text": [
            "(2, 3)\n"
          ]
        }
      ],
      "source": [
        "# Print shape of the array\n",
        "print(b.shape)"
      ]
    },
    {
      "cell_type": "code",
      "execution_count": 9,
      "metadata": {
        "id": "jiRIoGTO6G_A"
      },
      "outputs": [
        {
          "name": "stdout",
          "output_type": "stream",
          "text": [
            "[[0. 0. 0.]\n",
            " [0. 0. 0.]]\n",
            "[[0 0 0]\n",
            " [0 0 0]]\n"
          ]
        }
      ],
      "source": [
        "#  Create an array of zeros with the same shape and type as b\n",
        "c = np.zeros((2, 3))\n",
        "print(c)\n",
        "\n",
        "c = np.zeros_like(b)\n",
        "print(c)"
      ]
    },
    {
      "cell_type": "code",
      "execution_count": 10,
      "metadata": {
        "id": "7V6_RKNw5fz6"
      },
      "outputs": [
        {
          "name": "stdout",
          "output_type": "stream",
          "text": [
            "[[1. 1. 1.]\n",
            " [1. 1. 1.]]\n",
            "[[1 1 1]\n",
            " [1 1 1]]\n"
          ]
        }
      ],
      "source": [
        "# Create an array of ones with the same shape and type as b\n",
        "d = np.ones((2, 3))\n",
        "print(d)\n",
        "\n",
        "d = np.ones_like(b)\n",
        "print(d)"
      ]
    },
    {
      "cell_type": "code",
      "execution_count": 11,
      "metadata": {
        "id": "uFuNHfvv6jni"
      },
      "outputs": [
        {
          "name": "stdout",
          "output_type": "stream",
          "text": [
            "[[6 6 6 6 6]\n",
            " [6 6 6 6 6]]\n",
            "[[6 6 6 6 6]\n",
            " [6 6 6 6 6]]\n"
          ]
        }
      ],
      "source": [
        "# Create a new array of 2*5 uints, filled with 6.\n",
        "# Use np.full() and np.ones()\n",
        "a = np.full((2, 5), 6)\n",
        "print(a)\n",
        "\n",
        "b = np.ones((2, 5), dtype=np.uint) * 6\n",
        "print(b)"
      ]
    },
    {
      "cell_type": "markdown",
      "metadata": {
        "id": "dXoE3QG78BI4"
      },
      "source": [
        "### Array from existing data"
      ]
    },
    {
      "cell_type": "code",
      "execution_count": 12,
      "metadata": {
        "id": "gKpVs2ZL8GYY"
      },
      "outputs": [
        {
          "name": "stdout",
          "output_type": "stream",
          "text": [
            "[1 2 3]\n"
          ]
        }
      ],
      "source": [
        "# Create an array of [1, 2, 3]\n",
        "a = np.array([1, 2, 3])\n",
        "print(a)"
      ]
    },
    {
      "cell_type": "code",
      "execution_count": 13,
      "metadata": {
        "id": "EeTozKis8GWL"
      },
      "outputs": [
        {
          "name": "stdout",
          "output_type": "stream",
          "text": [
            "[1 2]\n"
          ]
        }
      ],
      "source": [
        "# Let x = [1, 2]. Convert it into an array (asarray)\n",
        "x = np.array([1, 2])\n",
        "x = np.asarray(x)\n",
        "print(x)"
      ]
    },
    {
      "cell_type": "code",
      "execution_count": 14,
      "metadata": {
        "id": "Ez8gf0QM8GTz"
      },
      "outputs": [
        {
          "name": "stdout",
          "output_type": "stream",
          "text": [
            "[[1 2]\n",
            " [3 4]]\n"
          ]
        }
      ],
      "source": [
        "# Let x = np.array([[1, 2], [3, 4]]). Convert it into a matrix (asmatrix)\n",
        "x = np.array([[1, 2], [3, 4]])\n",
        "x = np.asmatrix(x)\n",
        "print(x)"
      ]
    },
    {
      "cell_type": "code",
      "execution_count": 26,
      "metadata": {
        "id": "ippjxPDp8GRv"
      },
      "outputs": [
        {
          "name": "stdout",
          "output_type": "stream",
          "text": [
            "[1. 2.]\n",
            "<class 'numpy.float64'>\n",
            "[1. 2.]\n",
            "<class 'numpy.float64'>\n"
          ]
        }
      ],
      "source": [
        "# Let x = [1, 2]. Convert it into an array of float (asfarray)\n",
        "x = [1, 2]\n",
        "x = np.asfarray(x)\n",
        "print(x)\n",
        "print(type(x[0]))\n",
        "\n",
        "y = np.asarray(x, dtype=float)\n",
        "print(y)\n",
        "print(type(y[0]))"
      ]
    },
    {
      "cell_type": "code",
      "execution_count": 32,
      "metadata": {
        "id": "TWTGul1V8o61"
      },
      "outputs": [
        {
          "name": "stdout",
          "output_type": "stream",
          "text": [
            "30\n",
            "1.21.5\n"
          ]
        },
        {
          "name": "stderr",
          "output_type": "stream",
          "text": [
            "/var/folders/9q/y4ybk96d7nb9d0spg4xhbx7m0000gn/T/ipykernel_24949/769218449.py:3: DeprecationWarning: np.asscalar(a) is deprecated since NumPy v1.16, use a.item() instead\n",
            "  x = np.asscalar(x)\n"
          ]
        }
      ],
      "source": [
        "# Let x = np.array([30]). Convert it into scalar of its single element, i.e. 30 (asscalar)\n",
        "x = np.array([30])\n",
        "x = np.asscalar(x)\n",
        "print(x)"
      ]
    },
    {
      "cell_type": "code",
      "execution_count": 33,
      "metadata": {
        "id": "rXorbvLo8o4a"
      },
      "outputs": [
        {
          "name": "stdout",
          "output_type": "stream",
          "text": [
            "140189353772688 [1 2 3]\n",
            "140190425507376 [1 2 3]\n"
          ]
        }
      ],
      "source": [
        "# Let x = np.array([1, 2, 3]). Create a array copy of x, which has a different id from x\n",
        "# array마다 가지고 있는 고유한 값 -> 내용은 똑같지만 다른 주소를 갖고 있다.\n",
        "\n",
        "x = np.array([1, 2, 3])\n",
        "y = np.copy(x)\n",
        "print(id(x), x)\n",
        "print(id(y), y) \n"
      ]
    },
    {
      "cell_type": "markdown",
      "metadata": {
        "id": "ub4HIEsyWzdL"
      },
      "source": [
        "### Array indexing\n",
        "Since arrays may be multidimensional, you must specify a slice for each dimension of the array"
      ]
    },
    {
      "cell_type": "code",
      "execution_count": 18,
      "metadata": {
        "id": "oQuR0SV8Wg4Z"
      },
      "outputs": [
        {
          "name": "stdout",
          "output_type": "stream",
          "text": [
            "[[ 1  2  3  4]\n",
            " [ 5  6  7  8]\n",
            " [ 9 10 11 12]]\n"
          ]
        }
      ],
      "source": [
        "# Create an 3-by-4 array with elements 1 to 12 (reshape)\n",
        "a = np.arange(1, 13).reshape(3, 4)\n",
        "print(a)"
      ]
    },
    {
      "cell_type": "code",
      "execution_count": 47,
      "metadata": {
        "id": "U0gy5ngaW1m3"
      },
      "outputs": [
        {
          "name": "stdout",
          "output_type": "stream",
          "text": [
            "[[2 3]\n",
            " [6 7]]\n"
          ]
        }
      ],
      "source": [
        "# Use slicing to pull out the subarray consisting of the first 2 rows and columns 1 and 2\n",
        "b = a[:2, 1:3]\n",
        "print(b)"
      ]
    },
    {
      "cell_type": "code",
      "execution_count": 81,
      "metadata": {
        "id": "l8XnWNUaW1o3"
      },
      "outputs": [
        {
          "name": "stdout",
          "output_type": "stream",
          "text": [
            "Matrix X : \n",
            "[[0 1]\n",
            " [1 1]\n",
            " [2 2]]\n",
            "\n",
            "rowsum : \n",
            "[1 2 4]\n",
            "\n",
            "c : \n",
            "[[0 1]\n",
            " [1 1]]\n"
          ]
        }
      ],
      "source": [
        "# From an array, print all rows which sum up to less or equal two\n",
        "x = np.array([\n",
        "    [0, 1], # 1\n",
        "    [1, 1], # 2\n",
        "    [2, 2]  # 4\n",
        "])\n",
        "\n",
        "'''\n",
        "[0, 1]\n",
        "[1, 1]\n",
        "[2, 2]\n",
        "'''\n",
        "\n",
        "print(\"Matrix X : \")\n",
        "print(x)\n",
        "\n",
        "print(\"\\nrowsum : \")\n",
        "rowsum = x.sum(-1) # axis=1\n",
        "print(rowsum)\n",
        "\n",
        "\n",
        "\n",
        "c = x[rowsum <= 2, :]\n",
        "print(\"\\nc : \")\n",
        "print(c)"
      ]
    },
    {
      "attachments": {
        "image.png": {
          "image/png": "[encoded data removed]"
        }
      },
      "cell_type": "markdown",
      "metadata": {
        "id": "JrHJvEI2W4Ww"
      },
      "source": [
        "### Array math\n",
        "Basic mathematical functions operate elementwise on arrays, and are available both as operator overloads and as functions in the numpy module\n",
        "\n",
        "![image.png](attachment:image.png)\n",
        "\n",
        "- 1-dimension일 때의 axis0은 row 방향\n",
        "- 2-diimension일 때의 axis0은 column 방향\n",
        "- sum over -2th axis i.e. columns again (-2 % ndim(2) == 0) -> axis 0 -> column 방향\n",
        "- sum over -2th axis i.e. columns again (-1 % ndim(2) == 1) -> axis 1 -> row 방향"
      ]
    },
    {
      "cell_type": "code",
      "execution_count": 76,
      "metadata": {
        "id": "2NWvNBGwW1vY"
      },
      "outputs": [
        {
          "name": "stdout",
          "output_type": "stream",
          "text": [
            "[[ 5. 12.]\n",
            " [21. 32.]]\n"
          ]
        }
      ],
      "source": [
        "#############################################################\n",
        "# General Usage\n",
        "#############################################################\n",
        "x = np.array([[1,2],[3,4]], dtype=np.float64)\n",
        "y = np.array([[5,6],[7,8]], dtype=np.float64)\n",
        "\n",
        "# Elementwise product of x and y\n",
        "z = np.multiply(x, y)\n",
        "print(z)"
      ]
    },
    {
      "cell_type": "code",
      "execution_count": 38,
      "metadata": {
        "id": "jlW3dtyxW6aS"
      },
      "outputs": [
        {
          "name": "stdout",
          "output_type": "stream",
          "text": [
            "40320.0\n"
          ]
        }
      ],
      "source": [
        "# Matrix product of x and y\n",
        "z = np.product((x, y))\n",
        "print(z)"
      ]
    },
    {
      "cell_type": "code",
      "execution_count": 39,
      "metadata": {
        "id": "Y8CGj5OFW6cx"
      },
      "outputs": [
        {
          "name": "stdout",
          "output_type": "stream",
          "text": [
            "10.0\n"
          ]
        }
      ],
      "source": [
        "# Compute sum of all elements in x\n",
        "z = np.sum(x)\n",
        "print(z)"
      ]
    },
    {
      "cell_type": "code",
      "execution_count": 40,
      "metadata": {
        "id": "5Any9SqRW6ey"
      },
      "outputs": [
        {
          "name": "stdout",
          "output_type": "stream",
          "text": [
            "[4. 6.]\n"
          ]
        }
      ],
      "source": [
        "# Compute sum of each column in x;\n",
        "z = np.sum(x, axis=0)\n",
        "print(z)"
      ]
    },
    {
      "cell_type": "code",
      "execution_count": 41,
      "metadata": {
        "id": "Uwazhe_BW6hU"
      },
      "outputs": [
        {
          "name": "stdout",
          "output_type": "stream",
          "text": [
            "[3. 7.]\n"
          ]
        }
      ],
      "source": [
        "# Compute sum of each row in x\n",
        "z = np.sum(x, axis=1)\n",
        "print(z)"
      ]
    },
    {
      "cell_type": "code",
      "execution_count": 89,
      "metadata": {
        "id": "5pcHr8sHW6jz"
      },
      "outputs": [
        {
          "name": "stdout",
          "output_type": "stream",
          "text": [
            "[[ 2  2  4]\n",
            " [ 5  5  7]\n",
            " [ 8  8 10]\n",
            " [11 11 13]]\n"
          ]
        }
      ],
      "source": [
        "#############################################################\n",
        "# Broadcasting\n",
        "#############################################################\n",
        "x = np.arange(1, 13).reshape(4,3)\n",
        "v = np.array([1, 0 , 1])\n",
        "y = np.empty_like(x) \n",
        "\n",
        "# Add the vector v to each row of the matrix x with an explicit loop\n",
        "for i in range(4):\n",
        "    y[i, :] = x[i, :] + v\n",
        "print(y)"
      ]
    },
    {
      "cell_type": "code",
      "execution_count": 91,
      "metadata": {
        "id": "10QBFaiEW6mU"
      },
      "outputs": [
        {
          "name": "stdout",
          "output_type": "stream",
          "text": [
            "[[1 0 1]\n",
            " [1 0 1]\n",
            " [1 0 1]\n",
            " [1 0 1]]\n",
            "[[ 2  2  4]\n",
            " [ 5  5  7]\n",
            " [ 8  8 10]\n",
            " [11 11 13]]\n"
          ]
        }
      ],
      "source": [
        "# Add the vector v to each row of the matrix x with stacking v multiple times (tile)\n",
        "vv = np.tile(v, (4, 1))\n",
        "print(vv) # [1, 0, 1]를 반복하여 4*1로 만듦\n",
        "\n",
        "y = x + vv # \n",
        "print(y)"
      ]
    },
    {
      "cell_type": "code",
      "execution_count": 94,
      "metadata": {
        "id": "hrWYVDPbW6ok"
      },
      "outputs": [
        {
          "name": "stdout",
          "output_type": "stream",
          "text": [
            "[[ 2  2  4]\n",
            " [ 5  5  7]\n",
            " [ 8  8 10]\n",
            " [11 11 13]]\n"
          ]
        }
      ],
      "source": [
        "# Add the vector v to each row of the matrix x with broadcasting\n",
        "x = np.arange(1, 13).reshape(4,3)\n",
        "v = np.array([1, 0 , 1])\n",
        "\n",
        "y = v + x\n",
        "print(y)"
      ]
    },
    {
      "cell_type": "code",
      "execution_count": 95,
      "metadata": {
        "id": "CTK4_gelW6qr"
      },
      "outputs": [
        {
          "name": "stdout",
          "output_type": "stream",
          "text": [
            "[[ 2  4  6]\n",
            " [ 8 10 12]\n",
            " [14 16 18]\n",
            " [20 22 24]]\n"
          ]
        }
      ],
      "source": [
        "# Multiply matrix x by a constant 2:\n",
        "z = x * 2\n",
        "print(z)"
      ]
    },
    {
      "cell_type": "markdown",
      "metadata": {},
      "source": [
        "### Numpy Array as Data\n",
        "\n",
        "* Data type: scalar, vector, matrix, tensor, and so on\n"
      ]
    },
    {
      "cell_type": "code",
      "execution_count": 96,
      "metadata": {},
      "outputs": [
        {
          "name": "stdout",
          "output_type": "stream",
          "text": [
            "[5.1 3.5 1.4 0.2]\n"
          ]
        }
      ],
      "source": [
        "# Feature vector example 1\n",
        "\n",
        "from sklearn.datasets import load_iris\n",
        "\n",
        "iris = load_iris() \n",
        "print(iris.data[0, :])"
      ]
    },
    {
      "cell_type": "code",
      "execution_count": 99,
      "metadata": {},
      "outputs": [
        {
          "data": {
            "image/png": "[encoded data removed]",
            "text/plain": [
              "<Figure size 800x200 with 8 Axes>"
            ]
          },
          "metadata": {},
          "output_type": "display_data"
        }
      ],
      "source": [
        "# Feature vector example 2\n",
        "import matplotlib.pyplot as plt\n",
        "from sklearn.datasets import load_digits \n",
        "\n",
        "# 한글 font 깨짐 방지\n",
        "from matplotlib import rc\n",
        "rc('font', family='AppleGothic')\n",
        "plt.rcParams['axes.unicode_minus'] = False\n",
        "\n",
        "digits = load_digits()  # 데이터 로드\n",
        "samples = [0, 10, 20, 30, 1, 11, 21, 31]  # 선택된 이미지 번호\n",
        "d = []\n",
        "for i in range(8):\n",
        "    d.append(digits.images[samples[i]])\n",
        "\n",
        "plt.figure(figsize=(8, 2))\n",
        "for i in range(8):\n",
        "    plt.subplot(1, 8, i + 1)\n",
        "    plt.imshow(d[i], interpolation='nearest', cmap=plt.cm.bone_r)\n",
        "    plt.grid(False); plt.xticks([]); plt.yticks([])\n",
        "    plt.title(\"image {}\".format(i + 1))\n",
        "plt.suptitle(\"숫자 0과 1 이미지\")\n",
        "plt.tight_layout()\n",
        "plt.show();"
      ]
    },
    {
      "cell_type": "markdown",
      "metadata": {
        "id": "mVVQVnjAAeyX"
      },
      "source": [
        "### Image processing with Python, NumPy"
      ]
    },
    {
      "cell_type": "code",
      "execution_count": null,
      "metadata": {
        "id": "RaCDPnSNAhMR"
      },
      "outputs": [],
      "source": [
        "from PIL import Image # Python Imaging Library\n",
        "import numpy as np\n",
        "import scipy.misc\n",
        "import cv2\n",
        "\n",
        "# How to read an image file as ndarray\n",
        "image_url = \"https://github.com/nkmk/python-snippets/blob/1dd9bd0b89a4465af229cbbfc2a1f8e3cb26d78c/notebook/data/src/lena.jpg\"\n",
        "\n",
        "\n",
        "\n",
        "\n"
      ]
    },
    {
      "cell_type": "code",
      "execution_count": null,
      "metadata": {
        "id": "hAMBdHXNAhJ7"
      },
      "outputs": [],
      "source": [
        "# Convert image to grayscale\n",
        "\n",
        "im_gray = \n",
        "\n",
        "print(im_gray.shape)"
      ]
    },
    {
      "cell_type": "code",
      "execution_count": null,
      "metadata": {
        "id": "2ok374peAhHw"
      },
      "outputs": [],
      "source": [
        "# Change the value of the element (pixel)\n",
        "print(im.flags.writeable)\n",
        "\n",
        "print(im[0, 0, 0])\n",
        "\n",
        "im[0, 0, 0] = 0\n",
        "\n",
        "print(im[0, 0, 0])"
      ]
    },
    {
      "cell_type": "code",
      "execution_count": null,
      "metadata": {
        "id": "fwBwUBu1AhFa"
      },
      "outputs": [],
      "source": [
        "# Generation of single color image and concatenation\n",
        "\n",
        "image_url = \"https://github.com/nkmk/python-snippets/blob/1dd9bd0b89a4465af229cbbfc2a1f8e3cb26d78c/notebook/data/src/lena_square.png?raw=true\"\n",
        "\n",
        "im = Image.open('./lena_square.jpg')\n",
        "im = np.array(im)\n",
        "\n",
        "im_R = im.copy()\n",
        "\n",
        "im_G = im.copy()\n",
        "\n",
        "im_B = im.copy()\n",
        "\n",
        "\n",
        "im_RGB = \n",
        "# im_RGB = np.hstack((im_R, im_G, im_B))\n",
        "# im_RGB = np.c_['1', im_R, im_G, im_B]\n",
        "\n",
        "pil_img = Image.fromarray(im_RGB)\n",
        "pil_img.save('./lena_numpy_split_color.jpg')\n"
      ]
    },
    {
      "cell_type": "code",
      "execution_count": null,
      "metadata": {
        "id": "7f-4ImR5AhDI"
      },
      "outputs": [],
      "source": [
        "# Negative-positive inversion (invert pixel value)\n",
        "\n",
        "im = np.array(Image.open('./lena_square.jpg').resize((256, 256)))\n",
        "\n",
        "im_i = \n",
        "\n",
        "Image.fromarray(im_i).save('./lena_numpy_inverse.jpg')"
      ]
    },
    {
      "cell_type": "code",
      "execution_count": null,
      "metadata": {
        "id": "EQYtbRXSAhA5"
      },
      "outputs": [],
      "source": [
        "# Color reduction\n",
        "\n",
        "im = np.array(Image.open('./lena_square.jpg').resize((256, 256)))\n",
        "\n",
        "im_32 = \n",
        "im_128 = \n",
        "\n",
        "im_dec = \n",
        "\n",
        "Image.fromarray(im_dec).save('./lena_numpy_dec_color.jpg')"
      ]
    },
    {
      "cell_type": "code",
      "execution_count": null,
      "metadata": {
        "id": "hdyaKqWvAg-p"
      },
      "outputs": [],
      "source": [
        "# Trimming with slice\n",
        "m = np.array(Image.open('./lena_square.jpg'))\n",
        "\n",
        "print(im.shape)\n",
        "# (512, 512, 3)\n",
        "\n",
        "im_trim1 = im[128:384, 128:384]\n",
        "print(im_trim1.shape)\n",
        "# (256, 256, 3)\n",
        "\n",
        "Image.fromarray(im_trim1).save('./lena_numpy_trim.jpg')"
      ]
    }
  ],
  "metadata": {
    "colab": {
      "provenance": []
    },
    "kernelspec": {
      "display_name": "Python 3",
      "name": "python3"
    },
    "language_info": {
      "codemirror_mode": {
        "name": "ipython",
        "version": 3
      },
      "file_extension": ".py",
      "mimetype": "text/x-python",
      "name": "python",
      "nbconvert_exporter": "python",
      "pygments_lexer": "ipython3",
      "version": "3.9.13"
    }
  },
  "nbformat": 4,
  "nbformat_minor": 0
}
