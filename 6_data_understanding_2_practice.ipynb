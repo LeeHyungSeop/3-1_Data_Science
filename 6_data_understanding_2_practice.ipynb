{
  "nbformat": 4,
  "nbformat_minor": 0,
  "metadata": {
    "colab": {
      "provenance": []
    },
    "kernelspec": {
      "name": "python3",
      "display_name": "Python 3"
    },
    "language_info": {
      "name": "python"
    }
  },
  "cells": [
    {
      "cell_type": "markdown",
      "source": [
        "# 데이터사이언스 (0010085001)\n",
        "\n",
        "## Exercise 6: Data Understanding (2)\n",
        "\n",
        "In this excercise, we will cover the exercise on the data understanding.\n",
        "\n",
        "Especially, we will study the mean, median, mode, which are the distribution for the central value. Next, we will learn the sample variance, sample standard deviation, skewness, and kurtosis, which determine the degree of spread."
      ],
      "metadata": {
        "id": "Ad3KH2GnL1UA"
      }
    },
    {
      "cell_type": "code",
      "source": [
        "import numpy as np\n",
        "import pandas as pd"
      ],
      "metadata": {
        "id": "ZyaEDLhNWhBs"
      },
      "execution_count": null,
      "outputs": []
    },
    {
      "cell_type": "markdown",
      "source": [
        "### 1. 중심위치확인\n",
        "\n",
        "#### 예제: 중심위치"
      ],
      "metadata": {
        "id": "6RwqgjuWX2O4"
      }
    },
    {
      "cell_type": "code",
      "source": [
        "import pandas as pd"
      ],
      "metadata": {
        "id": "14mm6rIdwezC"
      },
      "execution_count": null,
      "outputs": []
    },
    {
      "cell_type": "code",
      "source": [
        "# Step 1: 데이터프레임의 구조\n",
        "\n",
        "# apartments.csv 다운로드\n",
        "# gdrive link: https://drive.google.com/file/d/1biRQigoeInynB6JtS81BOLobgInAcXb-/view?usp=share_link"
      ],
      "metadata": {
        "id": "FM2qp5tKwnBp"
      },
      "execution_count": null,
      "outputs": []
    },
    {
      "cell_type": "code",
      "source": [
        "# csv 파일 읽기\n",
        "df = "
      ],
      "metadata": {
        "id": "o4aVCIJEwevR"
      },
      "execution_count": null,
      "outputs": []
    },
    {
      "cell_type": "code",
      "source": [
        "# 필요없는 열 삭제\n",
        "df = "
      ],
      "metadata": {
        "id": "V93Mp3WDyH-p"
      },
      "execution_count": null,
      "outputs": []
    },
    {
      "cell_type": "code",
      "source": [
        "# 데이터 확인\n"
      ],
      "metadata": {
        "id": "-rzxeMVUyDi5"
      },
      "execution_count": null,
      "outputs": []
    },
    {
      "cell_type": "code",
      "source": [
        "# 데이터의 형상 확인\n"
      ],
      "metadata": {
        "id": "DSnqO3SfwetD"
      },
      "execution_count": null,
      "outputs": []
    },
    {
      "cell_type": "code",
      "source": [
        "# 각 열의 정보와 메모리 확인\n"
      ],
      "metadata": {
        "id": "wiSHu7Wgweq6"
      },
      "execution_count": null,
      "outputs": []
    },
    {
      "cell_type": "code",
      "source": [
        "# Step 2: 기술통계\n",
        "# '계약일' 열의 개수를 확인\n",
        "df['계약일']"
      ],
      "metadata": {
        "id": "fdNwXWRyweoo"
      },
      "execution_count": null,
      "outputs": []
    },
    {
      "cell_type": "code",
      "source": [
        "# 특정 열 내의 유일한 값 확인\n"
      ],
      "metadata": {
        "id": "iK_MU0zswemd"
      },
      "execution_count": null,
      "outputs": []
    },
    {
      "cell_type": "code",
      "source": [
        "# 특정 열에서 각 값이 나온 횟수 확인\n",
        "df['계약일']"
      ],
      "metadata": {
        "id": "5W5mbcEwyatD"
      },
      "execution_count": null,
      "outputs": []
    },
    {
      "cell_type": "code",
      "source": [
        "# 범주형 데이터의 통계를 확인\n",
        "df[['계약일']]"
      ],
      "metadata": {
        "id": "rgRqCQOmydLW"
      },
      "execution_count": null,
      "outputs": []
    },
    {
      "cell_type": "code",
      "source": [
        "# '거래금액(만원)' 열의 개수, 평균, 표준편차, 범위와 사분위수 확인\n",
        "df[['거래금액(만원)']]"
      ],
      "metadata": {
        "id": "MGtrqrcUyhW2"
      },
      "execution_count": null,
      "outputs": []
    },
    {
      "cell_type": "code",
      "source": [
        "# Step 3: 평균, 중앙값, 최빈값 계산\n",
        "# 평균값\n",
        "df[['거래금액(만원)']]"
      ],
      "metadata": {
        "id": "F6hA3RwXynt5"
      },
      "execution_count": null,
      "outputs": []
    },
    {
      "cell_type": "code",
      "source": [
        "# 중앙값\n",
        "df[['거래금액(만원)']]"
      ],
      "metadata": {
        "id": "uUzHcx80yrWh"
      },
      "execution_count": null,
      "outputs": []
    },
    {
      "cell_type": "code",
      "source": [
        "# 최빈값: 가장 많이 나타나는 값의 개수\n",
        "df[['거래금액(만원)']]"
      ],
      "metadata": {
        "id": "WEHCnSUZyrUJ"
      },
      "execution_count": null,
      "outputs": []
    },
    {
      "cell_type": "code",
      "source": [
        "# 최빈값의 사분위수 확인\n",
        "x = df['거래금액(만원)']\n",
        "bins = \n",
        "m = \n",
        "m"
      ],
      "metadata": {
        "id": "nwrIlnwpyrSF"
      },
      "execution_count": null,
      "outputs": []
    },
    {
      "cell_type": "code",
      "source": [
        "# 넘파이 모듈의 histogram 함수를 사용하여 최빈값과 구간을 조회\n",
        "# 거래금액 열에 대한 히스토그램\n",
        "ns, _ = \n",
        "ns"
      ],
      "metadata": {
        "id": "i_qxXocUyrL0"
      },
      "execution_count": null,
      "outputs": []
    },
    {
      "cell_type": "code",
      "source": [
        "# 가장 빈도가 높은 인덱스 출력\n",
        "m_bin = \n",
        "print(\"최빈값 = {}, 최빈구간 = {}~{}\".format(\n",
        "    m, bins[m_bin], bins[m_bin+1]))"
      ],
      "metadata": {
        "id": "blgxAZGPyrHY"
      },
      "execution_count": null,
      "outputs": []
    },
    {
      "cell_type": "code",
      "source": [
        "# Step 4: 평균, 중앙값, 최빈값을 그래프로 표시하기\n",
        "import matplotlib.pyplot as plt\n",
        "import matplotlib as m_bin\n",
        "import seaborn as sns\n",
        "\n",
        "%matplotlib inline"
      ],
      "metadata": {
        "id": "wGWFGqxwyrC2"
      },
      "execution_count": null,
      "outputs": []
    },
    {
      "cell_type": "code",
      "source": [
        "# 데이터프레임에서 거래금액 열을 변수 x에 할당\n",
        "# 평균, 중앙값, 최빈값 계산\n",
        "x = df['거래금액(만원)']\n",
        "sample_mean = \n",
        "sample_median = \n",
        "sample_mode = "
      ],
      "metadata": {
        "id": "si0jDuhTyrAs"
      },
      "execution_count": null,
      "outputs": []
    },
    {
      "cell_type": "code",
      "source": [
        "# 그래프 그리기\n",
        "sns.distplot(x)\n",
        "\n",
        "plt.axvline(sample_mean,   c='k', ls='-.', label='평균')\n",
        "plt.axvline(sample_median, c='b', ls='--', label='중앙값')\n",
        "plt.axvline(sample_mode,   c='r', ls='-.', label='최빈값')\n",
        "\n",
        "plt.title('평균, 중앙값, 최빈값의 차이')\n",
        "plt.xlabel('x')\n",
        "plt.legend()\n",
        "\n",
        "plt.xlim(0, 175000)\n",
        "plt.show()"
      ],
      "metadata": {
        "id": "46bm5r0Vyq-R"
      },
      "execution_count": null,
      "outputs": []
    },
    {
      "cell_type": "markdown",
      "source": [
        "### 2. 퍼진 정도 확인\n",
        "\n",
        "#### 예제: 퍼진 정도 알아보기"
      ],
      "metadata": {
        "id": "0QHdmQke0H9p"
      }
    },
    {
      "cell_type": "code",
      "source": [
        "# Step 1: 분산\n",
        "df[['거래금액(만원)']]"
      ],
      "metadata": {
        "id": "WyHIHrcVyq8F"
      },
      "execution_count": null,
      "outputs": []
    },
    {
      "cell_type": "code",
      "source": [
        "# Step 2: 표준편차\n",
        "df[['거래금액(만원)']]"
      ],
      "metadata": {
        "id": "83CCXNmeyq6I"
      },
      "execution_count": null,
      "outputs": []
    },
    {
      "cell_type": "code",
      "source": [
        "# Step 3: 범위\n",
        "df[['거래금액(만원)']]\n",
        "df[['거래금액(만원)']]"
      ],
      "metadata": {
        "id": "Qp0aafXfyq36"
      },
      "execution_count": null,
      "outputs": []
    },
    {
      "cell_type": "code",
      "source": [
        "# 최소값 확인\n",
        "# 작은 거래 금액을 조회\n",
        "df.nsmallest(3, ['거래금액(만원)'])"
      ],
      "metadata": {
        "id": "A83whK_uHJ0b"
      },
      "execution_count": null,
      "outputs": []
    },
    {
      "cell_type": "code",
      "source": [
        "# 큰 거래금액을 조회\n",
        "df.nlargest(3, ['거래금액(만원)'])"
      ],
      "metadata": {
        "id": "R4r4gCOsHJpq"
      },
      "execution_count": null,
      "outputs": []
    },
    {
      "cell_type": "code",
      "source": [
        "# 사분위수\n",
        "df[['거래금액(만원)']].quantile([.25, .5, .75])"
      ],
      "metadata": {
        "id": "0hB_XId7HJnc"
      },
      "execution_count": null,
      "outputs": []
    },
    {
      "cell_type": "code",
      "source": [
        "# 계약년월, 거래금액(만원) 그래프 그리기\n",
        "sns.boxplot(x='계약년월', y='거래금액(만원)', data=df)"
      ],
      "metadata": {
        "id": "U30pLONOHJlS"
      },
      "execution_count": null,
      "outputs": []
    },
    {
      "cell_type": "code",
      "source": [
        "# 계약일로 데이터 구분하여 그리기\n",
        "sns.boxplot(x='계약년월', y='거래금액(만원)', \n",
        "            hue='계약일', \n",
        "            data=df)"
      ],
      "metadata": {
        "id": "CdGRrZFCHJjE"
      },
      "execution_count": null,
      "outputs": []
    },
    {
      "cell_type": "code",
      "source": [
        "# Step 4: 왜도 (skewness) 와 첨도 (kurtosis)\n",
        "# 왜도: 평균과의 거리의 세 제곱을 이용해 구한 특정값\n",
        "#      -> 평균에서 치우친 정도 \n",
        "# 첨도: 평균과의 거리의 네 제곱을 이용해 구한 특정값\n",
        "#      -> 중앙값에 모인 정도\n",
        "df[['거래금액(만원)']]\n",
        "df[['거래금액(만원)']]"
      ],
      "metadata": {
        "id": "AzedxTiBHJg2"
      },
      "execution_count": null,
      "outputs": []
    },
    {
      "cell_type": "code",
      "source": [
        "# 그래프를 통한 평균과 왜도 차이 확인\n",
        "# 평균 및 왜도 계산\n",
        "x = df[['거래금액(만원)']]\n",
        "sample_mean = \n",
        "sample_skew = "
      ],
      "metadata": {
        "id": "5ct_VyJ1HJer"
      },
      "execution_count": null,
      "outputs": []
    },
    {
      "cell_type": "code",
      "source": [
        "sample_mean, sample_skew"
      ],
      "metadata": {
        "id": "jmCdeGnu2Uol"
      },
      "execution_count": null,
      "outputs": []
    },
    {
      "cell_type": "code",
      "source": [
        "# 그래프 그리기\n",
        "sns.histplot(x)\n",
        "plt.axvline(sample_mean, c='k', ls='-.', label='평균')\n",
        "plt.axvline(sample_skew, c='b', ls='-.', label='왜도')\n",
        "\n",
        "plt.title('왜도, 평균의 차이')\n",
        "plt.xlabel('x')\n",
        "plt.legend()\n",
        "plt.show()"
      ],
      "metadata": {
        "id": "S6uxWZhzHJcf"
      },
      "execution_count": null,
      "outputs": []
    },
    {
      "cell_type": "code",
      "source": [
        "# 데이터를 로그로 변환하여 값을 정규화\n",
        "# 실제 왜도가 평균보다 좌측에 있는지 확인하기 위함\n",
        "\n",
        "import scipy as sp\n",
        "x = np.log10(df['거래금액(만원)'])\n",
        "sample_mean = \n",
        "sample_skew = sp.stats.skew(df[['거래금액(만원)']])[0]"
      ],
      "metadata": {
        "id": "T_2FnFBYHJaT"
      },
      "execution_count": null,
      "outputs": []
    },
    {
      "cell_type": "code",
      "source": [
        "sample_mean, sample_skew"
      ],
      "metadata": {
        "id": "jWCeRCNFHJYP"
      },
      "execution_count": null,
      "outputs": []
    },
    {
      "cell_type": "code",
      "source": [
        "# 그래프 그리기\n",
        "sns.histplot(x)\n",
        "plt.axvline(sample_mean, c='k', ls='-.', label='평균')\n",
        "plt.axvline(sample_skew, c='b', ls='-.', label='왜도')\n",
        "\n",
        "plt.title('왜도, 평균의 차이')\n",
        "plt.xlabel('x')\n",
        "plt.legend()\n",
        "plt.show()"
      ],
      "metadata": {
        "id": "Dy2ODKh_HJWW"
      },
      "execution_count": null,
      "outputs": []
    },
    {
      "cell_type": "markdown",
      "source": [
        "### 3. 공공 데이터 분석\n",
        "\n",
        "#### 예제: 공공 데이터 정재"
      ],
      "metadata": {
        "id": "dPc8bdaHxjz0"
      }
    },
    {
      "cell_type": "code",
      "source": [
        "# 건강검진 데이터 다운로드\n",
        "\n",
        "# gdrive link: https://drive.google.com/file/d/18GJbdztBwqWc43SdAWVstq-a0se14oL_/view?usp=share_link"
      ],
      "metadata": {
        "id": "a_7-hr3axsvh"
      },
      "execution_count": null,
      "outputs": []
    },
    {
      "cell_type": "code",
      "source": [
        "import pandas as pd\n",
        "import numpy as np\n",
        "import matplotlib.pyplot as plt\n",
        "import seaborn as sns \n",
        "from IPython.display import display\n",
        "from warnings import filterwarnings\n",
        "\n",
        "%matplotlib inline"
      ],
      "metadata": {
        "id": "9-b-U3sfxubs"
      },
      "execution_count": null,
      "outputs": []
    },
    {
      "cell_type": "code",
      "source": [
        "# Step 1: 정보읽어오기\n",
        "df = pd.read_csv('./NHIS_OPEN_GJ_2014.m1.csv', encoding='cp949')\n",
        "df.head()"
      ],
      "metadata": {
        "id": "nJMwOSsn1hJA"
      },
      "execution_count": null,
      "outputs": []
    },
    {
      "cell_type": "code",
      "source": [
        "# 데이터 형상 확인\n"
      ],
      "metadata": {
        "id": "5IhxUDZjxuXi"
      },
      "execution_count": null,
      "outputs": []
    },
    {
      "cell_type": "code",
      "source": [
        "# 데이터프레임 자료형 확인\n"
      ],
      "metadata": {
        "id": "d1BRvO_YxuVX"
      },
      "execution_count": null,
      "outputs": []
    },
    {
      "cell_type": "code",
      "source": [
        "# Step 2: 숫자 타입의 바이트 수 조절하기\n",
        "# 자료형을 변환하여 메모리 사용량을 줄임\n",
        "for i in  df.columns:\n",
        "  # np.int64 -> np.int16\n",
        "  if df[i].dtype == np.int64 :\n",
        "    \n",
        "  # np.float64 -> np.float32\n",
        "  if df[i].dtype == np.float64 :\n",
        "    "
      ],
      "metadata": {
        "id": "SJZU7iRFxuS4"
      },
      "execution_count": null,
      "outputs": []
    },
    {
      "cell_type": "code",
      "source": [
        "# Step 3: 결측값 제거\n",
        "# 데이터 프레임의 결측값 확인\n",
        "df_1 = "
      ],
      "metadata": {
        "id": "EKpFWC1wxuOq"
      },
      "execution_count": null,
      "outputs": []
    },
    {
      "cell_type": "code",
      "source": [
        "## 총 결측값을 sum 메소드로 확인인\n"
      ],
      "metadata": {
        "id": "jJMx2XXe1-UH"
      },
      "execution_count": null,
      "outputs": []
    },
    {
      "cell_type": "code",
      "source": [
        "# 모든 결측값을 0으로 처리\n",
        "df = "
      ],
      "metadata": {
        "id": "6mr4IUVc1-SV"
      },
      "execution_count": null,
      "outputs": []
    },
    {
      "cell_type": "code",
      "source": [
        "# 결측값 존재유무 확인\n",
        "d = "
      ],
      "metadata": {
        "id": "neW8EyCd1-N-"
      },
      "execution_count": null,
      "outputs": []
    },
    {
      "cell_type": "code",
      "source": [
        "# 총 결측값 확인\n"
      ],
      "metadata": {
        "id": "Muwy7Qlz1-Lv"
      },
      "execution_count": null,
      "outputs": []
    },
    {
      "cell_type": "code",
      "source": [
        "# Step 4: 특정 열로 새로운 구조 만들기\n",
        "d_ = df[['성별코드', '신장(5Cm단위)']].copy()\n",
        "d_.shape"
      ],
      "metadata": {
        "id": "r8Ncvv9M6NDr"
      },
      "execution_count": null,
      "outputs": []
    },
    {
      "cell_type": "code",
      "source": [
        "# 계산할 열 추가\n",
        "d_.loc[:,\"count\"] = 1"
      ],
      "metadata": {
        "id": "4_ysSBlL6Uxu"
      },
      "execution_count": null,
      "outputs": []
    },
    {
      "cell_type": "code",
      "source": [
        "d_.head()"
      ],
      "metadata": {
        "id": "Tsfz8dCt6YK7"
      },
      "execution_count": null,
      "outputs": []
    },
    {
      "cell_type": "code",
      "source": [
        "# Step 5: 피벗테이블 만들기\n",
        "# 많은 양의 데이터에서 필요한 자료만을 뽑아 새롭게 표를 작성\n",
        "\n",
        "# 신장 column 기준으로 피벗테이블 생성\n",
        "d_c = pd.pivot_table()"
      ],
      "metadata": {
        "id": "0YM8eepN1-Jb"
      },
      "execution_count": null,
      "outputs": []
    },
    {
      "cell_type": "code",
      "source": [
        "# 피벗테이블 확인\n",
        "d_c"
      ],
      "metadata": {
        "id": "IWCkIKIp1-HO"
      },
      "execution_count": null,
      "outputs": []
    },
    {
      "cell_type": "code",
      "source": [
        "# 결측값을 9으로 처리\n",
        "d_c = "
      ],
      "metadata": {
        "id": "5cTvz3BG1-E3"
      },
      "execution_count": null,
      "outputs": []
    },
    {
      "cell_type": "code",
      "source": [
        "# 통계량 확인\n"
      ],
      "metadata": {
        "id": "WZYD0nwTxuMn"
      },
      "execution_count": null,
      "outputs": []
    }
  ]
}